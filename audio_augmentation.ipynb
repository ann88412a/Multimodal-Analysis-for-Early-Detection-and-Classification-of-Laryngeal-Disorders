{
 "cells": [
  {
   "cell_type": "code",
   "execution_count": 70,
   "id": "a53a1c8f",
   "metadata": {},
   "outputs": [],
   "source": [
    "import numpy as np\n",
    "import librosa\n",
    "import soundfile as sf\n",
    "import random\n",
    "import os\n"
   ]
  },
  {
   "cell_type": "code",
   "execution_count": 22,
   "id": "86e6574a",
   "metadata": {},
   "outputs": [],
   "source": [
    "# import librosa.display\n",
    "# import matplotlib.pyplot as plt\n",
    "\n",
    "# def _plot_signal_and_augmented_signal(signal, augmented_signal, sr):\n",
    "#     fig, ax = plt.subplot(nrows=2)\n",
    "#     librosa.display.waveplot(signal, sr=sr, ax=ax[0])\n",
    "#     ax[0].set(title=\"Original signal\")\n",
    "#     librosa.display.waveplot(augmented_signal, sr=sr, ax=ax[1])\n",
    "#     ax[1].set(title=\"Augmented signal\")\n",
    "#     plt.show()"
   ]
  },
  {
   "cell_type": "code",
   "execution_count": 3,
   "id": "a90eb924",
   "metadata": {},
   "outputs": [],
   "source": [
    "# adding white noise\n",
    "def add_white_noise(signal, noise_factor):\n",
    "    noise = np.random.normal(0, signal.std(), signal.size)\n",
    "    augmented_signal = signal + noise * noise_factor\n",
    "    return augmented_signal\n",
    "    \n",
    "    "
   ]
  },
  {
   "cell_type": "code",
   "execution_count": 57,
   "id": "e040ef18",
   "metadata": {},
   "outputs": [],
   "source": [
    "# time stretch\n",
    "def time_stretch(signal, stretch_rate):\n",
    "    return librosa.effects.time_stretch(signal, rate=stretch_rate)"
   ]
  },
  {
   "cell_type": "code",
   "execution_count": 53,
   "id": "6a78fdfa",
   "metadata": {},
   "outputs": [],
   "source": [
    "# pitch scaling\n",
    "def pitch_scale(signal, sr, num_semitones):\n",
    "    return librosa.effects.pitch_shift(signal, sr=sr, n_steps=num_semitones)"
   ]
  },
  {
   "cell_type": "code",
   "execution_count": 68,
   "id": "927bda97",
   "metadata": {},
   "outputs": [],
   "source": [
    "# polarity inversion\n",
    "def invert_polarity(signal):\n",
    "    return signal*-1"
   ]
  },
  {
   "cell_type": "code",
   "execution_count": 64,
   "id": "e2cde9c2",
   "metadata": {},
   "outputs": [],
   "source": [
    "# random gain\n",
    "def random_gain(signal, min_gain_factor, max_gain_factor):\n",
    "    gain_factor = random.uniform(min_gain_factor, max_gain_factor)\n",
    "    return signal * gain_factor"
   ]
  },
  {
   "cell_type": "code",
   "execution_count": 32,
   "id": "198aca7c",
   "metadata": {},
   "outputs": [],
   "source": [
    "signal, sr = librosa.load(\"./Training_Dataset/normal_voice/0002aor.wav\")\n",
    "augmented_signal = add_white_noise(signal, 0.1)\n",
    "sf.write(\"./Training_Dataset/normal_voice/augmented.wav\", augmented_signal, sr)"
   ]
  },
  {
   "cell_type": "code",
   "execution_count": 59,
   "id": "81f9ec7c",
   "metadata": {},
   "outputs": [],
   "source": [
    "signal, sr = librosa.load(\"./Training_Dataset/normal_voice/0002aor.wav\")\n",
    "augmented_signal = time_stretch(signal, 0.5)\n",
    "sf.write(\"./Training_Dataset/normal_voice/augmented2.wav\", augmented_signal, sr)"
   ]
  },
  {
   "cell_type": "code",
   "execution_count": 54,
   "id": "62f998ab",
   "metadata": {},
   "outputs": [],
   "source": [
    "signal, sr = librosa.load(\"./Training_Dataset/normal_voice/0002aor.wav\")\n",
    "augmented_signal = pitch_scale(signal, sr, 2)\n",
    "sf.write(\"./Training_Dataset/normal_voice/augmented3.wav\", augmented_signal, sr)"
   ]
  },
  {
   "cell_type": "code",
   "execution_count": 65,
   "id": "36fc4978",
   "metadata": {},
   "outputs": [],
   "source": [
    "signal, sr = librosa.load(\"./Training_Dataset/normal_voice/0002aor.wav\")\n",
    "augmented_signal = random_gain(signal, 2, 4)\n",
    "sf.write(\"./Training_Dataset/normal_voice/augmented4.wav\", augmented_signal, sr)"
   ]
  },
  {
   "cell_type": "code",
   "execution_count": 69,
   "id": "687e5c5a",
   "metadata": {},
   "outputs": [],
   "source": [
    "signal, sr = librosa.load(\"./Training_Dataset/normal_voice/0002aor.wav\")\n",
    "augmented_signal = invert_polarity(signal)\n",
    "sf.write(\"./Training_Dataset/normal_voice/augmented5.wav\", augmented_signal, sr)"
   ]
  },
  {
   "cell_type": "code",
   "execution_count": null,
   "id": "43dbc2bf",
   "metadata": {},
   "outputs": [],
   "source": []
  },
  {
   "cell_type": "code",
   "execution_count": 83,
   "id": "f4e736c8",
   "metadata": {},
   "outputs": [
    {
     "name": "stdout",
     "output_type": "stream",
     "text": [
      "0002aor\n",
      "0101c0u\n",
      "06023b2\n",
      "0602o2b\n",
      "07026oh\n",
      "0A00gqr\n",
      "0C013db\n",
      "0H02j6q\n",
      "0J022qa\n",
      "0M00oom\n",
      "0R00fio\n",
      "0R00td9\n",
      "0S015dv\n",
      "0S024o5\n",
      "0S02h6i\n",
      "0T000fb\n",
      "0T008t9\n",
      "0T00dcu\n",
      "0T00mg6\n",
      "0T00nj6\n",
      "0T00osj\n",
      "0T00tmc\n",
      "0T00ufl\n",
      "0T026ce\n",
      "10002dl\n",
      "10005ko\n",
      "1100llh\n",
      "1100u79\n",
      "1201d09\n",
      "1301jit\n",
      "13028p5\n",
      "1302h9l\n"
     ]
    }
   ],
   "source": [
    "folder_path = './Training_Dataset/normal_voice'\n",
    "\n",
    "for filename in os.listdir(folder_path):\n",
    "    filename = filename[:-4]\n",
    "    \n",
    "    signal, sr = librosa.load(f\"./Training_Dataset/normal_voice/{filename}.wav\")\n",
    "    augmented_signal = add_white_noise(signal, 0.1)\n",
    "    sf.write(f\"./Training_Dataset/normal_voice/{filename}_2.wav\", augmented_signal, sr)\n",
    "    \n",
    "    augmented_signal = time_stretch(signal, 0.5)\n",
    "    sf.write(f\"./Training_Dataset/normal_voice/{filename}_3.wav\", augmented_signal, sr)\n",
    "    \n",
    "\n",
    "    augmented_signal = pitch_scale(signal, sr, 2)\n",
    "    sf.write(f\"./Training_Dataset/normal_voice/{filename}_4.wav\", augmented_signal, sr)\n",
    "    \n",
    "    augmented_signal = random_gain(signal, 2, 4)\n",
    "    sf.write(f\"./Training_Dataset/normal_voice/{filename}_5.wav\", augmented_signal, sr)\n",
    "    \n",
    "    augmented_signal = invert_polarity(signal)\n",
    "    sf.write(f\"./Training_Dataset/normal_voice/{filename}_6.wav\", augmented_signal, sr)"
   ]
  },
  {
   "cell_type": "code",
   "execution_count": null,
   "id": "6a15d0a4",
   "metadata": {},
   "outputs": [],
   "source": []
  }
 ],
 "metadata": {
  "kernelspec": {
   "display_name": "Python 3 (ipykernel)",
   "language": "python",
   "name": "python3"
  },
  "language_info": {
   "codemirror_mode": {
    "name": "ipython",
    "version": 3
   },
   "file_extension": ".py",
   "mimetype": "text/x-python",
   "name": "python",
   "nbconvert_exporter": "python",
   "pygments_lexer": "ipython3",
   "version": "3.10.7"
  }
 },
 "nbformat": 4,
 "nbformat_minor": 5
}

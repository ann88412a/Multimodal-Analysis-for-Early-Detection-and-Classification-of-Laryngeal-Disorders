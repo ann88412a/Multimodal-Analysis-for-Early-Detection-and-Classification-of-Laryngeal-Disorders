{
 "cells": [
  {
   "cell_type": "markdown",
   "metadata": {
    "id": "d7Ti1UYvMSw7"
   },
   "source": [
    "# 掛載雲端硬碟"
   ]
  },
  {
   "cell_type": "code",
   "execution_count": 5,
   "metadata": {
    "colab": {
     "base_uri": "https://localhost:8080/"
    },
    "executionInfo": {
     "elapsed": 2706,
     "status": "ok",
     "timestamp": 1679113818545,
     "user": {
      "displayName": "Nien-Ting Lee",
      "userId": "13054204329208761386"
     },
     "user_tz": -480
    },
    "id": "ZtZokLx1Md34",
    "outputId": "5ae9946b-f67a-4c43-edff-eb3133f374e2"
   },
   "outputs": [
    {
     "name": "stdout",
     "output_type": "stream",
     "text": [
      "Drive already mounted at /content/drive; to attempt to forcibly remount, call drive.mount(\"/content/drive\", force_remount=True).\n"
     ]
    }
   ],
   "source": [
    "# import os..\n",
    "# from google.colab import drive\n",
    "\n",
    "# drive.mount('/content/drive')\n",
    "\n",
    "# os.chdir( '/content/drive/MyDrive/Colab Notebooks/AI_CUP_DemoCode/')\n",
    "#"
   ]
  },
  {
   "cell_type": "markdown",
   "metadata": {
    "id": "B1ajdq9E-A5O"
   },
   "source": [
    "# 載入套件"
   ]
  },
  {
   "cell_type": "code",
   "execution_count": 1,
   "metadata": {
    "executionInfo": {
     "elapsed": 3,
     "status": "ok",
     "timestamp": 1679113818546,
     "user": {
      "displayName": "Nien-Ting Lee",
      "userId": "13054204329208761386"
     },
     "user_tz": -480
    },
    "id": "st1ZzC2o-A5P"
   },
   "outputs": [],
   "source": [
    "import numpy as np\n",
    "import pandas as pd\n",
    "import librosa\n",
    "\n",
    "import tensorflow as tf\n",
    "from tensorflow.keras.layers import Activation, BatchNormalization, Dense, LayerNormalization\n",
    "from tensorflow.keras.models import Sequential, load_model\n",
    "from tensorflow.keras.callbacks import EarlyStopping, ModelCheckpoint\n",
    "\n",
    "from sklearn.model_selection import train_test_split\n",
    "from sklearn.metrics import confusion_matrix, ConfusionMatrixDisplay, recall_score"
   ]
  },
  {
   "cell_type": "markdown",
   "metadata": {
    "id": "yE0AR8P1-A5Q"
   },
   "source": [
    "# 模型架構"
   ]
  },
  {
   "cell_type": "code",
   "execution_count": 2,
   "metadata": {
    "executionInfo": {
     "elapsed": 3,
     "status": "ok",
     "timestamp": 1679113818546,
     "user": {
      "displayName": "Nien-Ting Lee",
      "userId": "13054204329208761386"
     },
     "user_tz": -480
    },
    "id": "syU-2mCr-A5Q"
   },
   "outputs": [],
   "source": [
    "# default hyperparameters\n",
    "NEURONS = 300\n",
    "HIDDEN_LAYERS = 3\n",
    "\n",
    "def create_DNN(input_shape, neurons = NEURONS, hidden_layers = HIDDEN_LAYERS, learning_rate = 0.001, verbose=0):\n",
    "    model = Sequential()\n",
    "\n",
    "    model.add(Dense(neurons, input_dim=input_shape))\n",
    "    model.add(Activation('relu'))\n",
    "\n",
    "    for i in range(hidden_layers-1):\n",
    "        model.add(Dense(neurons))\n",
    "        model.add(Activation('relu'))\n",
    "\n",
    "    model.add(Dense(3))\n",
    "    model.add(Activation('softmax'))\n",
    "\n",
    "    opt = tf.keras.optimizers.Adam(learning_rate=learning_rate)\n",
    "    model.compile(loss='categorical_crossentropy', optimizer=opt, metrics=['accuracy']) # categorical_crossentropy\n",
    "\n",
    "    if verbose:\n",
    "        model.summary()\n",
    "    \n",
    "    return model"
   ]
  },
  {
   "cell_type": "markdown",
   "metadata": {
    "id": "GHYjBz2M-A5Q"
   },
   "source": [
    "# 載入訓練資料"
   ]
  },
  {
   "cell_type": "code",
   "execution_count": 3,
   "metadata": {
    "colab": {
     "base_uri": "https://localhost:8080/"
    },
    "executionInfo": {
     "elapsed": 1737,
     "status": "ok",
     "timestamp": 1679113820281,
     "user": {
      "displayName": "Nien-Ting Lee",
      "userId": "13054204329208761386"
     },
     "user_tz": -480
    },
    "id": "xI4m8gMW-A5Q",
    "outputId": "39424e5f-c3e2-40ce-fe06-5fc045eafb54"
   },
   "outputs": [
    {
     "name": "stdout",
     "output_type": "stream",
     "text": [
      "source_df.shape : (924, 28)\n",
      "source_df.columns : Index(['ID', 'Sex', 'Age', 'Disease category', 'Narrow pitch range',\n",
      "       'Decreased volume', 'Fatigue', 'Dryness', 'Lumping', 'heartburn',\n",
      "       'Choking', 'Eye dryness', 'PND', 'Smoking', 'PPD', 'Drinking',\n",
      "       'frequency', 'Diurnal pattern', 'Onset of dysphonia ', 'Noise at work',\n",
      "       'Occupational vocal demand', 'Diabetes', 'Hypertension', 'CAD',\n",
      "       'Head and Neck Cancer', 'Head injury', 'CVA',\n",
      "       'Voice handicap index - 10'],\n",
      "      dtype='object')\n"
     ]
    }
   ],
   "source": [
    "# 讀取訓練資料集表單\n",
    "source_df = pd.read_csv('./data/training_datalist.csv')\n",
    "\n",
    "print(\"source_df.shape :\", source_df.shape)\n",
    "print(\"source_df.columns :\", source_df.columns)"
   ]
  },
  {
   "cell_type": "markdown",
   "metadata": {
    "id": "ZhAx4-IT-A5R"
   },
   "source": [
    "# 資料前處理"
   ]
  },
  {
   "cell_type": "code",
   "execution_count": 4,
   "metadata": {
    "executionInfo": {
     "elapsed": 5,
     "status": "ok",
     "timestamp": 1679113820282,
     "user": {
      "displayName": "Nien-Ting Lee",
      "userId": "13054204329208761386"
     },
     "user_tz": -480
    },
    "id": "_gt6wmNJ-A5R"
   },
   "outputs": [],
   "source": [
    "def medical_data_proccessing(df):\n",
    "    medical_col = ['Sex', 'Age', 'Narrow pitch range',\n",
    "                'Decreased volume', 'Fatigue', 'Dryness', 'Lumping', 'heartburn',\n",
    "                'Choking', 'Eye dryness', 'PND', 'Smoking', 'PPD', 'Drinking',\n",
    "                'frequency', 'Diurnal pattern', 'Onset of dysphonia ', 'Noise at work',\n",
    "                'Occupational vocal demand', 'Diabetes', 'Hypertension', 'CAD',\n",
    "                'Head and Neck Cancer', 'Head injury', 'CVA',\n",
    "                'Voice handicap index - 10', 'Disease category']\n",
    "    \n",
    "    # 選定要訓練預測的類別\n",
    "    df = df.loc[df['Disease category'].isin([1, 2, 3]), medical_col]\n",
    "\n",
    "    # 將性別編碼0,1\n",
    "    df['Sex'] = df['Sex'] - 1\n",
    "\n",
    "    # 將空值填0\n",
    "    df['PPD'] = df['PPD'].fillna(0)\n",
    "    df['Voice handicap index - 10'] = df['Voice handicap index - 10'].fillna(0)\n",
    "\n",
    "    # 正規化過大的數值\n",
    "    df['Age'] = df['Age'] / 50\n",
    "    df['Voice handicap index - 10'] = df['Voice handicap index - 10'] / 40\n",
    "\n",
    "    return df"
   ]
  },
  {
   "cell_type": "code",
   "execution_count": 5,
   "metadata": {
    "colab": {
     "base_uri": "https://localhost:8080/"
    },
    "executionInfo": {
     "elapsed": 5,
     "status": "ok",
     "timestamp": 1679113820282,
     "user": {
      "displayName": "Nien-Ting Lee",
      "userId": "13054204329208761386"
     },
     "user_tz": -480
    },
    "id": "L7_hOcbh-A5R",
    "outputId": "b019d6be-8e0a-4f9c-92b5-e4c47f935974"
   },
   "outputs": [
    {
     "name": "stdout",
     "output_type": "stream",
     "text": [
      "Disease category in training_df : [1 2 3]\n",
      "training_df col : Index(['Sex', 'Age', 'Narrow pitch range', 'Decreased volume', 'Fatigue',\n",
      "       'Dryness', 'Lumping', 'heartburn', 'Choking', 'Eye dryness', 'PND',\n",
      "       'Smoking', 'PPD', 'Drinking', 'frequency', 'Diurnal pattern',\n",
      "       'Onset of dysphonia ', 'Noise at work', 'Occupational vocal demand',\n",
      "       'Diabetes', 'Hypertension', 'CAD', 'Head and Neck Cancer',\n",
      "       'Head injury', 'CVA', 'Voice handicap index - 10', 'Disease category'],\n",
      "      dtype='object')\n",
      "training_df shape : (924, 27)\n"
     ]
    }
   ],
   "source": [
    "source_df = medical_data_proccessing(source_df)\n",
    "\n",
    "print(\"Disease category in training_df :\", source_df['Disease category'].unique())\n",
    "print(\"training_df col :\", source_df.columns)\n",
    "print(\"training_df shape :\", source_df.shape)"
   ]
  },
  {
   "cell_type": "markdown",
   "metadata": {},
   "source": [
    "## 訓練與驗證資料切分"
   ]
  },
  {
   "cell_type": "code",
   "execution_count": 6,
   "metadata": {},
   "outputs": [
    {
     "name": "stdout",
     "output_type": "stream",
     "text": [
      "training_df shape : (739, 27) , test_df shape : (185, 27)\n"
     ]
    }
   ],
   "source": [
    "training_df, test_df = train_test_split(source_df, test_size=0.2, random_state=333)\n",
    "\n",
    "print(\"training_df shape :\", training_df.shape, \", test_df shape :\", test_df.shape)"
   ]
  },
  {
   "cell_type": "code",
   "execution_count": 7,
   "metadata": {
    "colab": {
     "base_uri": "https://localhost:8080/"
    },
    "executionInfo": {
     "elapsed": 4,
     "status": "ok",
     "timestamp": 1679113820282,
     "user": {
      "displayName": "Nien-Ting Lee",
      "userId": "13054204329208761386"
     },
     "user_tz": -480
    },
    "id": "YWxTE7RI-A5R",
    "outputId": "983e4bc2-9827-41fd-83cd-f891cbb7d084"
   },
   "outputs": [
    {
     "name": "stdout",
     "output_type": "stream",
     "text": [
      "training_data.shape : (739, 29)\n",
      "x_train.shape, y_train.shape : (739, 26) (739, 3)\n",
      "y_train.columns : ['c1', 'c2', 'c3']\n"
     ]
    }
   ],
   "source": [
    "# 訓練資料標記轉換\n",
    "training_data = training_df.iloc[:, :-1]\n",
    "training_data['c1'] = training_df['Disease category'].map({1:1, 2:0, 3:0})\n",
    "training_data['c2'] = training_df['Disease category'].map({1:0, 2:1, 3:0})\n",
    "training_data['c3'] = training_df['Disease category'].map({1:0, 2:0, 3:1})\n",
    "\n",
    "print(\"training_data.shape :\", training_data.shape)\n",
    "\n",
    "x_train = training_data.iloc[:, :-3]\n",
    "y_train = training_data.iloc[:, -3:]\n",
    "print(\"x_train.shape, y_train.shape :\", x_train.shape, y_train.shape)\n",
    "print(\"y_train.columns :\", y_train.columns.tolist())"
   ]
  },
  {
   "cell_type": "code",
   "execution_count": 8,
   "metadata": {},
   "outputs": [
    {
     "name": "stdout",
     "output_type": "stream",
     "text": [
      "test_data.shape : (185, 29)\n",
      "x_val.shape, y_val.shape : (185, 26) (185, 3)\n",
      "y_val.columns : ['c1', 'c2', 'c3']\n"
     ]
    }
   ],
   "source": [
    "# 驗證資料標記轉換\n",
    "test_data = test_df.iloc[:, :-1]\n",
    "test_data['c1'] = test_df['Disease category'].map({1:1, 2:0, 3:0})\n",
    "test_data['c2'] = test_df['Disease category'].map({1:0, 2:1, 3:0})\n",
    "test_data['c3'] = test_df['Disease category'].map({1:0, 2:0, 3:1})\n",
    "\n",
    "print(\"test_data.shape :\", test_data.shape)\n",
    "\n",
    "x_val = test_data.iloc[:, :-3]\n",
    "y_val = test_data.iloc[:, -3:]\n",
    "print(\"x_val.shape, y_val.shape :\", x_val.shape, y_val.shape)\n",
    "print(\"y_val.columns :\", y_val.columns.tolist())"
   ]
  },
  {
   "cell_type": "markdown",
   "metadata": {
    "id": "1iWD2IWf-A5Q"
   },
   "source": [
    "# 訓練病理特徵"
   ]
  },
  {
   "cell_type": "code",
   "execution_count": 9,
   "metadata": {
    "colab": {
     "base_uri": "https://localhost:8080/"
    },
    "executionInfo": {
     "elapsed": 3451,
     "status": "ok",
     "timestamp": 1679113823730,
     "user": {
      "displayName": "Nien-Ting Lee",
      "userId": "13054204329208761386"
     },
     "user_tz": -480
    },
    "id": "1p5D4gRH-A5R",
    "outputId": "66b29713-e73e-4c20-e0a1-f8a0fcaa4a44"
   },
   "outputs": [
    {
     "name": "stdout",
     "output_type": "stream",
     "text": [
      "Model: \"sequential\"\n",
      "_________________________________________________________________\n",
      "Layer (type)                 Output Shape              Param #   \n",
      "=================================================================\n",
      "dense (Dense)                (None, 300)               8100      \n",
      "_________________________________________________________________\n",
      "activation (Activation)      (None, 300)               0         \n",
      "_________________________________________________________________\n",
      "dense_1 (Dense)              (None, 300)               90300     \n",
      "_________________________________________________________________\n",
      "activation_1 (Activation)    (None, 300)               0         \n",
      "_________________________________________________________________\n",
      "dense_2 (Dense)              (None, 300)               90300     \n",
      "_________________________________________________________________\n",
      "activation_2 (Activation)    (None, 300)               0         \n",
      "_________________________________________________________________\n",
      "dense_3 (Dense)              (None, 3)                 903       \n",
      "_________________________________________________________________\n",
      "activation_3 (Activation)    (None, 3)                 0         \n",
      "=================================================================\n",
      "Total params: 189,603\n",
      "Trainable params: 189,603\n",
      "Non-trainable params: 0\n",
      "_________________________________________________________________\n"
     ]
    }
   ],
   "source": [
    "model = create_DNN(input_shape = x_train.shape[1], verbose=1)"
   ]
  },
  {
   "cell_type": "code",
   "execution_count": 10,
   "metadata": {
    "colab": {
     "base_uri": "https://localhost:8080/"
    },
    "executionInfo": {
     "elapsed": 9124,
     "status": "ok",
     "timestamp": 1679113832852,
     "user": {
      "displayName": "Nien-Ting Lee",
      "userId": "13054204329208761386"
     },
     "user_tz": -480
    },
    "id": "33e77LDL-A5S",
    "outputId": "2df39f8e-159a-41ea-db72-ab2dd85420eb"
   },
   "outputs": [
    {
     "name": "stdout",
     "output_type": "stream",
     "text": [
      "Epoch 1/100\n",
      "24/24 [==============================] - 1s 6ms/step - loss: 0.8529 - accuracy: 0.6143 - val_loss: 0.8327 - val_accuracy: 0.5784\n",
      "Epoch 2/100\n",
      "24/24 [==============================] - 0s 2ms/step - loss: 0.7606 - accuracy: 0.6455 - val_loss: 0.8694 - val_accuracy: 0.6162\n",
      "Epoch 3/100\n",
      "24/24 [==============================] - 0s 2ms/step - loss: 0.6780 - accuracy: 0.7172 - val_loss: 0.7509 - val_accuracy: 0.6432\n",
      "Epoch 4/100\n",
      "24/24 [==============================] - 0s 2ms/step - loss: 0.6102 - accuracy: 0.7415 - val_loss: 0.7995 - val_accuracy: 0.6703\n",
      "Epoch 5/100\n",
      "24/24 [==============================] - 0s 2ms/step - loss: 0.5924 - accuracy: 0.7578 - val_loss: 0.7968 - val_accuracy: 0.6541\n",
      "Epoch 6/100\n",
      "24/24 [==============================] - 0s 2ms/step - loss: 0.5706 - accuracy: 0.7510 - val_loss: 0.7658 - val_accuracy: 0.6865\n",
      "Epoch 7/100\n",
      "24/24 [==============================] - 0s 2ms/step - loss: 0.5296 - accuracy: 0.7767 - val_loss: 0.7706 - val_accuracy: 0.7027\n",
      "Epoch 8/100\n",
      "24/24 [==============================] - 0s 2ms/step - loss: 0.4886 - accuracy: 0.7862 - val_loss: 0.7940 - val_accuracy: 0.7027\n",
      "Epoch 9/100\n",
      "24/24 [==============================] - 0s 2ms/step - loss: 0.4465 - accuracy: 0.8160 - val_loss: 0.8348 - val_accuracy: 0.6432\n",
      "Epoch 10/100\n",
      "24/24 [==============================] - 0s 2ms/step - loss: 0.4361 - accuracy: 0.8173 - val_loss: 0.9130 - val_accuracy: 0.6595\n",
      "Epoch 11/100\n",
      "24/24 [==============================] - 0s 2ms/step - loss: 0.4031 - accuracy: 0.8376 - val_loss: 0.9358 - val_accuracy: 0.6919\n",
      "Epoch 12/100\n",
      "24/24 [==============================] - 0s 2ms/step - loss: 0.3709 - accuracy: 0.8444 - val_loss: 0.9534 - val_accuracy: 0.6486\n",
      "Epoch 13/100\n",
      "24/24 [==============================] - 0s 2ms/step - loss: 0.3442 - accuracy: 0.8498 - val_loss: 0.9673 - val_accuracy: 0.6378\n"
     ]
    }
   ],
   "source": [
    "MODEL_SAVE_NAME = \"AI_CUP_medical_sample_model\"\n",
    "\n",
    "train_results = model.fit(x_train, y_train, batch_size=None, epochs=100, \n",
    "                              callbacks=[EarlyStopping(monitor='val_loss', patience=10, mode='auto'),\n",
    "                                         ModelCheckpoint(MODEL_SAVE_NAME+\".h5\", save_best_only=True)], \n",
    "                              validation_data=(x_val, y_val))"
   ]
  },
  {
   "cell_type": "markdown",
   "metadata": {
    "id": "SvapKuja-A5S"
   },
   "source": [
    "## 訓練資料"
   ]
  },
  {
   "cell_type": "code",
   "execution_count": 11,
   "metadata": {
    "colab": {
     "base_uri": "https://localhost:8080/",
     "height": 331
    },
    "executionInfo": {
     "elapsed": 2759,
     "status": "ok",
     "timestamp": 1679113835609,
     "user": {
      "displayName": "Nien-Ting Lee",
      "userId": "13054204329208761386"
     },
     "user_tz": -480
    },
    "id": "x8sWVI7f-A5S",
    "outputId": "32fb9bd8-c140-4e56-ef37-685d3fae3b22"
   },
   "outputs": [
    {
     "name": "stdout",
     "output_type": "stream",
     "text": [
      "Training UAR(Unweighted Average Recall) : 0.8773911360835568\n"
     ]
    },
    {
     "data": {
      "text/plain": [
       "<sklearn.metrics._plot.confusion_matrix.ConfusionMatrixDisplay at 0x25be0d56808>"
      ]
     },
     "execution_count": 11,
     "metadata": {},
     "output_type": "execute_result"
    },
    {
     "data": {
      "image/png": "[encoded data removed]",
      "text/plain": [
       "<Figure size 432x288 with 2 Axes>"
      ]
     },
     "metadata": {
      "needs_background": "light"
     },
     "output_type": "display_data"
    }
   ],
   "source": [
    "y_pred = model.predict(training_df.iloc[:, :-1]).argmax(axis=1)\n",
    "y_true = training_df['Disease category'] - 1\n",
    "\n",
    "results_recall = recall_score(y_true, y_pred, average=None)\n",
    "print(\"Training UAR(Unweighted Average Recall) :\", results_recall.mean())\n",
    "ConfusionMatrixDisplay(confusion_matrix(y_true, y_pred)).plot(cmap='Blues')"
   ]
  },
  {
   "cell_type": "markdown",
   "metadata": {
    "id": "4P3Jfn2T-A5S"
   },
   "source": [
    "# 驗證資料測試結果"
   ]
  },
  {
   "cell_type": "code",
   "execution_count": 12,
   "metadata": {
    "id": "1MYVtUoG-A5S",
    "outputId": "200fcaf4-cd4f-42b3-b326-1bef6acaf287"
   },
   "outputs": [
    {
     "name": "stdout",
     "output_type": "stream",
     "text": [
      "Test UAR(Unweighted Average Recall) : 0.6148046815625475\n"
     ]
    },
    {
     "data": {
      "text/plain": [
       "<sklearn.metrics._plot.confusion_matrix.ConfusionMatrixDisplay at 0x25be0d56b08>"
      ]
     },
     "execution_count": 12,
     "metadata": {},
     "output_type": "execute_result"
    },
    {
     "data": {
      "image/png": "[encoded data removed]",
      "text/plain": [
       "<Figure size 432x288 with 2 Axes>"
      ]
     },
     "metadata": {
      "needs_background": "light"
     },
     "output_type": "display_data"
    }
   ],
   "source": [
    "y_pred = model.predict(test_df.iloc[:, :-1]).argmax(axis=1)\n",
    "y_true = test_df['Disease category'] - 1\n",
    "\n",
    "results_recall = recall_score(y_true, y_pred, average=None)\n",
    "print(\"Test UAR(Unweighted Average Recall) :\", results_recall.mean())\n",
    "ConfusionMatrixDisplay(confusion_matrix(y_true, y_pred)).plot(cmap='Blues')"
   ]
  }
 ],
 "metadata": {
  "accelerator": "GPU",
  "colab": {
   "provenance": []
  },
  "gpuClass": "standard",
  "kernelspec": {
   "display_name": "Python 3 (ipykernel)",
   "language": "python",
   "name": "python3"
  },
  "language_info": {
   "codemirror_mode": {
    "name": "ipython",
    "version": 3
   },
   "file_extension": ".py",
   "mimetype": "text/x-python",
   "name": "python",
   "nbconvert_exporter": "python",
   "pygments_lexer": "ipython3",
   "version": "3.10.7"
  },
  "vscode": {
   "interpreter": {
    "hash": "f97432c16914304dbd818b138841742b9483a5a148ca981647dc7438178b3282"
   }
  }
 },
 "nbformat": 4,
 "nbformat_minor": 1
}

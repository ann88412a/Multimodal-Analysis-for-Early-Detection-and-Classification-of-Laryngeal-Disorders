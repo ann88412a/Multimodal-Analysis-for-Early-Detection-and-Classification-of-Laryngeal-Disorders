{
  "cells": [
    {
      "cell_type": "markdown",
      "metadata": {
        "id": "d7Ti1UYvMSw7"
      },
      "source": [
        "# 掛載雲端硬碟"
      ]
    },
    {
      "cell_type": "code",
      "execution_count": 30,
      "metadata": {
        "id": "ZtZokLx1Md34",
        "colab": {
          "base_uri": "https://localhost:8080/"
        },
        "outputId": "5c30c7e5-91a1-404e-fdd1-a402e9f758f7"
      },
      "outputs": [
        {
          "output_type": "stream",
          "name": "stdout",
          "text": [
            "Drive already mounted at /content/drive; to attempt to forcibly remount, call drive.mount(\"/content/drive\", force_remount=True).\n"
          ]
        }
      ],
      "source": [
        "import os\n",
        "from google.colab import drive\n",
        "\n",
        "drive.mount('/content/drive')\n",
        "\n",
        "os.chdir('/content/drive/MyDrive/Colab Notebooks/Multimodal-Analysis-for-Early-Detection-and-Classification-of-Laryngeal-Disorders')"
      ]
    },
    {
      "cell_type": "markdown",
      "metadata": {
        "id": "Bmpu6ph00f8a"
      },
      "source": [
        "# 載入套件"
      ]
    },
    {
      "cell_type": "code",
      "execution_count": 31,
      "metadata": {
        "id": "L-ZQpiZ20f8c"
      },
      "outputs": [],
      "source": [
        "import numpy as np\n",
        "import pandas as pd\n",
        "import librosa\n",
        "\n",
        "import tensorflow as tf\n",
        "from tensorflow.keras.layers import Activation, BatchNormalization, Dense, LayerNormalization, Dropout\n",
        "from tensorflow.keras.models import Sequential, load_model\n",
        "from tensorflow.keras.callbacks import EarlyStopping, ModelCheckpoint\n",
        "\n",
        "from sklearn.model_selection import train_test_split\n",
        "from sklearn.metrics import confusion_matrix, ConfusionMatrixDisplay, recall_score\n",
        "from sklearn.utils import shuffle"
      ]
    },
    {
      "cell_type": "markdown",
      "metadata": {
        "id": "zrWGfr6F0f8c"
      },
      "source": [
        "# 模型架構"
      ]
    },
    {
      "cell_type": "code",
      "execution_count": 32,
      "metadata": {
        "id": "-wg1u0lw0f8d"
      },
      "outputs": [],
      "source": [
        "MODEL_SAVE_NAME = \"AI_CUP_acoustic_sample_model\"\n",
        "\n",
        "# default hyperparameters\n",
        "NEURONS = 300\n",
        "HIDDEN_LAYERS = 3\n",
        "\n",
        "def create_DNN(input_shape, neurons = NEURONS, hidden_layers = HIDDEN_LAYERS, learning_rate = 0.001, verbose=0):\n",
        "    model = Sequential()\n",
        "\n",
        "    model.add(Dense(neurons, input_dim=input_shape))\n",
        "    model.add(Activation('sigmoid'))\n",
        "\n",
        "    for i in range(hidden_layers-1):\n",
        "        model.add(Dense(neurons))\n",
        "        model.add(Activation('selu'))\n",
        "        model.add(Dropout(0.3))\n",
        "\n",
        "    model.add(Dense(5))\n",
        "    model.add(Activation('softmax'))\n",
        "\n",
        "    opt = tf.keras.optimizers.Adam(learning_rate=learning_rate)\n",
        "    model.compile(loss='categorical_crossentropy', optimizer='adam', metrics=['accuracy'])\n",
        "\n",
        "    if verbose:\n",
        "        model.summary()\n",
        "    \n",
        "    return model\n",
        "\n",
        "\n",
        "# def create_DNN(input_shape, learning_rate = 0.001, dropout_rate = 0.1, verbose=0):\n",
        "#     model = Sequential()\n",
        "\n",
        "#     model.add(Dense(512, input_dim=input_shape))\n",
        "#     model.add(Activation('relu'))\n",
        "#     model.add(Dropout(dropout_rate))\n",
        "    \n",
        "#     model.add(Dense(256, input_dim=input_shape))\n",
        "#     model.add(Activation('selu'))\n",
        "#     model.add(Dropout(dropout_rate))\n",
        "    \n",
        "#     model.add(Dense(128, input_dim=input_shape))\n",
        "#     model.add(Activation('selu'))\n",
        "#     model.add(Dropout(dropout_rate))\n",
        "\n",
        "#     model.add(Dense(64, input_dim=input_shape))\n",
        "#     model.add(Activation('selu'))\n",
        "#     model.add(Dropout(dropout_rate))\n",
        "\n",
        "#     model.add(Dense(32, input_dim=input_shape))\n",
        "#     model.add(Activation('selu'))\n",
        "#     model.add(Dropout(dropout_rate))\n",
        "    \n",
        "#     model.add(Dense(5))\n",
        "#     model.add(Activation('softmax'))\n",
        "\n",
        "#     opt = tf.keras.optimizers.Adam(learning_rate=learning_rate)\n",
        "#     model.compile(loss='categorical_crossentropy', optimizer=opt, metrics=['accuracy']) # categorical_crossentropy\n",
        "\n",
        "#     if verbose:\n",
        "#         model.summary()\n",
        "    \n",
        "#     return model"
      ]
    },
    {
      "cell_type": "code",
      "execution_count": 33,
      "metadata": {
        "id": "HpcJ1tyGE_tK"
      },
      "outputs": [],
      "source": [
        "source_df = pd.read_csv('./Training_Dataset/training_datalist.csv')\n",
        "source_df2 = pd.read_csv('./Training_Dataset/training_datalist2.csv')"
      ]
    },
    {
      "cell_type": "markdown",
      "metadata": {
        "id": "t6rc2EnF0f8d"
      },
      "source": [
        "# 載入訓練資料"
      ]
    },
    {
      "cell_type": "code",
      "execution_count": 34,
      "metadata": {
        "id": "GBVn5Rft0f8d",
        "colab": {
          "base_uri": "https://localhost:8080/"
        },
        "outputId": "111260d4-6c51-4d97-b333-5ffd469c5d17"
      },
      "outputs": [
        {
          "output_type": "stream",
          "name": "stdout",
          "text": [
            "source_df.shape : (1160, 28)\n",
            "source_df.columns : Index(['ID', 'Sex', 'Age', 'Disease category', 'Narrow pitch range',\n",
            "       'Decreased volume', 'Fatigue', 'Dryness', 'Lumping', 'heartburn',\n",
            "       'Choking', 'Eye dryness', 'PND', 'Smoking', 'PPD', 'Drinking',\n",
            "       'frequency', 'Diurnal pattern', 'Onset of dysphonia ', 'Noise at work',\n",
            "       'Occupational vocal demand', 'Diabetes', 'Hypertension', 'CAD',\n",
            "       'Head and Neck Cancer', 'Head injury', 'CVA',\n",
            "       'Voice handicap index - 10'],\n",
            "      dtype='object')\n"
          ]
        }
      ],
      "source": [
        "# 讀取訓練資料集表單\n",
        "source_df = pd.read_csv('./Training_Dataset/training_datalist.csv')\n",
        "source_df = pd.concat([source_df,source_df2])\n",
        "print(\"source_df.shape :\", source_df.shape)\n",
        "print(\"source_df.columns :\", source_df.columns)"
      ]
    },
    {
      "cell_type": "markdown",
      "metadata": {
        "id": "L6Lwo9Sb0f8e"
      },
      "source": [
        "# 資料前處理"
      ]
    },
    {
      "cell_type": "code",
      "execution_count": 35,
      "metadata": {
        "id": "ql3TRu1c0f8e",
        "colab": {
          "base_uri": "https://localhost:8080/"
        },
        "outputId": "68be8b6b-0583-4e4f-f8a3-e863edb28cdd"
      },
      "outputs": [
        {
          "output_type": "stream",
          "name": "stdout",
          "text": [
            "Disease category in source_df : [1 2 3 5 4]\n",
            "source_df :\n",
            "             ID  Disease category  \\\n",
            "0      1202f15                 1   \n",
            "1      0600ve0                 2   \n",
            "2      1001o7l                 2   \n",
            "3      1201c1t                 1   \n",
            "4      0402jvt                 1   \n",
            "..         ...               ...   \n",
            "155  13028p5_2                 5   \n",
            "156  13028p5_3                 5   \n",
            "157  13028p5_4                 5   \n",
            "158  13028p5_5                 5   \n",
            "159  13028p5_6                 5   \n",
            "\n",
            "                                              wav_path  \n",
            "0    ./Training_Dataset/training_voice_data/1202f15...  \n",
            "1    ./Training_Dataset/training_voice_data/0600ve0...  \n",
            "2    ./Training_Dataset/training_voice_data/1001o7l...  \n",
            "3    ./Training_Dataset/training_voice_data/1201c1t...  \n",
            "4    ./Training_Dataset/training_voice_data/0402jvt...  \n",
            "..                                                 ...  \n",
            "155  ./Training_Dataset/training_voice_data/13028p5...  \n",
            "156  ./Training_Dataset/training_voice_data/13028p5...  \n",
            "157  ./Training_Dataset/training_voice_data/13028p5...  \n",
            "158  ./Training_Dataset/training_voice_data/13028p5...  \n",
            "159  ./Training_Dataset/training_voice_data/13028p5...  \n",
            "\n",
            "[1160 rows x 3 columns]\n"
          ]
        }
      ],
      "source": [
        "# 挑選出要訓練的Disease category 1、2、3、4、5\n",
        "source_df = source_df.loc[source_df['Disease category'].isin([1, 2, 3, 4, 5]), ['ID', 'Disease category']]\n",
        "\n",
        "# 在dataframe中加入要訓練的音檔路徑\n",
        "source_df['wav_path'] = source_df['ID'].map(\"./Training_Dataset/training_voice_data/{}.wav\".format)\n",
        "\n",
        "print(\"Disease category in source_df :\", source_df['Disease category'].unique())\n",
        "print(\"source_df :\\n\", source_df)"
      ]
    },
    {
      "cell_type": "code",
      "execution_count": 36,
      "metadata": {
        "id": "Vzzf-yqOE_tM"
      },
      "outputs": [],
      "source": [
        "# dic = {'1':0, '2':0, '3':0, '4':0, '5':0}\n",
        "# for i in range(len(source_df['Disease category'])):\n",
        "#     if source_df['Disease category'][i] ==5:\n",
        "#         dic['5']+=1\n",
        "#     elif source_df['Disease category'][i] ==4:\n",
        "#         dic['4']+=1\n",
        "#     elif source_df['Disease category'][i] ==3:\n",
        "#         dic['3']+=1\n",
        "#     elif source_df['Disease category'][i] ==2:\n",
        "#         dic['2']+=1\n",
        "#     elif source_df['Disease category'][i] ==1:\n",
        "#         dic['1']+=1\n",
        "# dic\n"
      ]
    },
    {
      "cell_type": "markdown",
      "metadata": {
        "id": "O3XhwSeEZvTz"
      },
      "source": [
        "## 訓練與驗證資料切分"
      ]
    },
    {
      "cell_type": "code",
      "execution_count": 37,
      "metadata": {
        "id": "-L6m21y9ZvTz",
        "colab": {
          "base_uri": "https://localhost:8080/"
        },
        "outputId": "125d3862-7692-4476-f85c-df11cc01aaad"
      },
      "outputs": [
        {
          "output_type": "stream",
          "name": "stdout",
          "text": [
            "training_df shape : (928, 3) , test_df shape : (232, 3)\n"
          ]
        }
      ],
      "source": [
        "training_df, test_df = train_test_split(source_df, test_size=0.2, random_state=333)\n",
        "\n",
        "print(\"training_df shape :\", training_df.shape, \", test_df shape :\", test_df.shape)"
      ]
    },
    {
      "cell_type": "markdown",
      "metadata": {
        "id": "_V-MWxQ00f8e"
      },
      "source": [
        "# 訓練聲學特徵"
      ]
    },
    {
      "cell_type": "markdown",
      "metadata": {
        "id": "WmrumsJL0f8f"
      },
      "source": [
        "## 聲學音檔轉換MFCC特徵與訓練"
      ]
    },
    {
      "cell_type": "code",
      "execution_count": 38,
      "metadata": {
        "id": "38IHOUIk0f8f"
      },
      "outputs": [],
      "source": [
        "# define function\n",
        "def audio_to_mfccs(filename, sample_rate=44100, offset=0, duration=None):\n",
        "    voice, sample_rate = librosa.load(filename, sr=sample_rate, offset=offset, duration=duration)\n",
        "    \n",
        "    n_fft = int(16/1000 * sample_rate)  # Convert 16 ms to samples\n",
        "    hop_length = int(8/1000 * sample_rate)  # Convert 8 ms to samples\n",
        "    mfcc_feature = librosa.feature.mfcc(y=voice, sr=sample_rate, n_mfcc=13, n_fft=n_fft, hop_length=hop_length)\n",
        "    \n",
        "    # mfccs_cvn = (mfcc_feature - np.mean(mfcc_feature, axis=1, keepdims=True)) / np.std(mfcc_feature, axis=1, keepdims=True)\n",
        "    delta_mfcc_feature = librosa.feature.delta(mfcc_feature)\n",
        "    \n",
        "    mfccs = np.concatenate((mfcc_feature, delta_mfcc_feature))\n",
        "    mfccs_features = np.transpose(mfccs)  # all frames\n",
        "\n",
        "    return mfccs_features"
      ]
    },
    {
      "cell_type": "code",
      "execution_count": 39,
      "metadata": {
        "id": "ZsbSG_s00f8f",
        "colab": {
          "base_uri": "https://localhost:8080/"
        },
        "outputId": "2f2856ef-1a73-4871-f448-0e266393e6f9"
      },
      "outputs": [
        {
          "output_type": "stream",
          "name": "stdout",
          "text": [
            "training_data.shape : (295761, 32)\n",
            "x_train.shape, y_train.shape : (295761, 26) (295761, 5)\n",
            "y_train.columns : ['c1', 'c2', 'c3', 'c4', 'c5']\n"
          ]
        }
      ],
      "source": [
        "training_id = training_df['ID'].tolist()\n",
        "training_data = pd.DataFrame()\n",
        "for id in training_id:\n",
        "\n",
        "    mfccs_feature = audio_to_mfccs(training_df[training_df['ID']==id]['wav_path'].values[0])\n",
        "    df = pd.DataFrame(mfccs_feature)\n",
        "    # print(\"id :\",id, \", number of frames :\", df.shape[0])\n",
        "\n",
        "    # 訓練資料標記\n",
        "    label = training_df[training_df['ID']==id]['Disease category'].values[0]\n",
        "    if label==1:\n",
        "        df['c1'] = 1; df['c2'] = 0; df['c3'] = 0; df['c4'] = 0; df['c5'] = 0\n",
        "    elif label==2:\n",
        "        df['c1'] = 0; df['c2'] = 1; df['c3'] = 0; df['c4'] = 0; df['c5'] = 0\n",
        "    elif label==3:\n",
        "        df['c1'] = 0; df['c2'] = 0; df['c3'] = 1; df['c4'] = 0; df['c5'] = 0\n",
        "    elif label==4:\n",
        "        df['c1'] = 0; df['c2'] = 0; df['c3'] = 0; df['c4'] = 1; df['c5'] = 0\n",
        "    elif label==5:\n",
        "        df['c1'] = 0; df['c2'] = 0; df['c3'] = 0; df['c4'] = 0; df['c5'] = 1\n",
        "    else:\n",
        "        df['c1'] = np.nan; df['c2'] = np.nan; df['c3'] = np.nan; df['c4'] = np.nan; df['c5'] = np.nan\n",
        "\n",
        "    df['c6'] = label\n",
        "\n",
        "    training_data = pd.concat([training_data, df])\n",
        "\n",
        "print(\"training_data.shape :\", training_data.shape)\n",
        "\n",
        "x_train = training_data.iloc[:, :-6]\n",
        "y_train = training_data.iloc[:, -6:-1]\n",
        "y_train_label = training_data.iloc[:, -1:]\n",
        "\n",
        "print(\"x_train.shape, y_train.shape :\", x_train.shape, y_train.shape)\n",
        "print(\"y_train.columns :\", y_train.columns.tolist())"
      ]
    },
    {
      "cell_type": "code",
      "execution_count": 40,
      "metadata": {
        "id": "8an806TqZvT1",
        "colab": {
          "base_uri": "https://localhost:8080/"
        },
        "outputId": "37346e17-1a99-4a06-f52b-44b581ed6eb0"
      },
      "outputs": [
        {
          "output_type": "stream",
          "name": "stdout",
          "text": [
            "training_data.shape : (74047, 32)\n",
            "x_val.shape, y_val.shape : (74047, 26) (74047, 5)\n",
            "y_val.columns : ['c1', 'c2', 'c3', 'c4', 'c5']\n",
            "x_val.shape, y_val.shape : (74047, 26) (74047, 5)\n"
          ]
        }
      ],
      "source": [
        "test_id = test_df['ID'].tolist()\n",
        "test_data = pd.DataFrame()\n",
        "for id in test_id:\n",
        "#     print(id)\n",
        "    mfccs_feature = audio_to_mfccs(test_df[test_df['ID']==id]['wav_path'].values[0])\n",
        "    df = pd.DataFrame(mfccs_feature)\n",
        "    # print(\"id :\",id, \", number of frames :\", df.shape[0])\n",
        "\n",
        "    # 訓練資料標記\n",
        "    label = test_df[test_df['ID']==id]['Disease category'].values[0]\n",
        "    if label==1:\n",
        "        df['c1'] = 1; df['c2'] = 0; df['c3'] = 0; df['c4'] = 0; df['c5'] = 0\n",
        "    elif label==2:\n",
        "        df['c1'] = 0; df['c2'] = 1; df['c3'] = 0; df['c4'] = 0; df['c5'] = 0\n",
        "    elif label==3:\n",
        "        df['c1'] = 0; df['c2'] = 0; df['c3'] = 1; df['c4'] = 0; df['c5'] = 0\n",
        "    elif label==4:\n",
        "        df['c1'] = 0; df['c2'] = 0; df['c3'] = 0; df['c4'] = 1; df['c5'] = 0\n",
        "    elif label==5:\n",
        "        df['c1'] = 0; df['c2'] = 0; df['c3'] = 0; df['c4'] = 0; df['c5'] = 1\n",
        "    else:\n",
        "        df['c1'] = np.nan; df['c2'] = np.nan; df['c3'] = np.nan; df['c4'] = np.nan; df['c5'] = np.nan\n",
        "\n",
        "    df['c6'] = label\n",
        "\n",
        "    test_data = pd.concat([test_data, df])\n",
        "\n",
        "print(\"training_data.shape :\", test_data.shape)\n",
        "\n",
        "x_val = test_data.iloc[:, :-6]\n",
        "y_val = test_data.iloc[:, -6:-1]\n",
        "y_val_label = test_data.iloc[:, -1:]\n",
        "\n",
        "print(\"x_val.shape, y_val.shape :\", x_val.shape, y_val.shape)\n",
        "print(\"y_val.columns :\", y_val.columns.tolist())\n",
        "\n",
        "print(\"x_val.shape, y_val.shape :\", x_val.shape, y_val.shape)"
      ]
    },
    {
      "cell_type": "code",
      "execution_count": 41,
      "metadata": {
        "id": "DmergrL60f8g",
        "colab": {
          "base_uri": "https://localhost:8080/"
        },
        "outputId": "b5ada6b2-f09b-4a14-c3e2-ee0981baeff4"
      },
      "outputs": [
        {
          "output_type": "stream",
          "name": "stdout",
          "text": [
            "Model: \"sequential_1\"\n",
            "_________________________________________________________________\n",
            " Layer (type)                Output Shape              Param #   \n",
            "=================================================================\n",
            " dense_4 (Dense)             (None, 300)               8100      \n",
            "                                                                 \n",
            " activation_4 (Activation)   (None, 300)               0         \n",
            "                                                                 \n",
            " dense_5 (Dense)             (None, 300)               90300     \n",
            "                                                                 \n",
            " activation_5 (Activation)   (None, 300)               0         \n",
            "                                                                 \n",
            " dropout_2 (Dropout)         (None, 300)               0         \n",
            "                                                                 \n",
            " dense_6 (Dense)             (None, 300)               90300     \n",
            "                                                                 \n",
            " activation_6 (Activation)   (None, 300)               0         \n",
            "                                                                 \n",
            " dropout_3 (Dropout)         (None, 300)               0         \n",
            "                                                                 \n",
            " dense_7 (Dense)             (None, 5)                 1505      \n",
            "                                                                 \n",
            " activation_7 (Activation)   (None, 5)                 0         \n",
            "                                                                 \n",
            "=================================================================\n",
            "Total params: 190,205\n",
            "Trainable params: 190,205\n",
            "Non-trainable params: 0\n",
            "_________________________________________________________________\n"
          ]
        }
      ],
      "source": [
        "model = create_DNN(input_shape = x_train.shape[1], verbose=1)"
      ]
    },
    {
      "cell_type": "code",
      "execution_count": 42,
      "metadata": {
        "id": "fp0QVZKV0f8g"
      },
      "outputs": [],
      "source": [
        "# train_results = model.fit(x_train, y_train, batch_size=256, epochs=100, \n",
        "#                             callbacks=[EarlyStopping(monitor='val_loss', patience=5, mode='auto'),\n",
        "#                                         ModelCheckpoint(MODEL_SAVE_NAME+\".h5\", save_best_only=True)], \n",
        "#                             validation_data=(x_val, y_val))\n",
        "\n",
        "#train_results = model.fit(x=x_train,  \n",
        "#                          y=y_train, validation_split=0.1,  \n",
        "#                          epochs=10, batch_size=300, verbose=2,callbacks=[EarlyStopping(monitor='val_loss', patience=5, mode='auto'),\n",
        "#                                        ModelCheckpoint(MODEL_SAVE_NAME+\".h5\", save_best_only=True)],validation_data=(x_val, y_val))"
      ]
    },
    {
      "cell_type": "markdown",
      "source": [
        "SMOTE"
      ],
      "metadata": {
        "id": "vLnhMgfYKNz5"
      }
    },
    {
      "cell_type": "code",
      "source": [
        "from imblearn.over_sampling import SMOTE\n",
        "\n",
        "model_smote = SMOTE()\n",
        "x_smote_resampled, y_smote_resampled = model_smote.fit_resample(x_train,y_train_label)"
      ],
      "metadata": {
        "id": "1S09U0UDKNLY"
      },
      "execution_count": 116,
      "outputs": []
    },
    {
      "cell_type": "code",
      "source": [
        "from sklearn.preprocessing import OneHotEncoder\n",
        "\n",
        "onehotencoder = OneHotEncoder(categories='auto')\n",
        "data_str_ohe = onehotencoder.fit_transform(y_smote_resampled).toarray()\n",
        "y_train_smote_onehot = pd.DataFrame(data_str_ohe)"
      ],
      "metadata": {
        "id": "jM5Y05vXhO81"
      },
      "execution_count": 120,
      "outputs": []
    },
    {
      "cell_type": "code",
      "source": [
        "y_train_smote_onehot"
      ],
      "metadata": {
        "colab": {
          "base_uri": "https://localhost:8080/",
          "height": 424
        },
        "id": "1H0lXIivhn5x",
        "outputId": "d9de6d82-e0ae-4448-e3a9-98d41af9c869"
      },
      "execution_count": 121,
      "outputs": [
        {
          "output_type": "execute_result",
          "data": {
            "text/plain": [
              "          0    1    2    3    4\n",
              "0       0.0  1.0  0.0  0.0  0.0\n",
              "1       0.0  1.0  0.0  0.0  0.0\n",
              "2       0.0  1.0  0.0  0.0  0.0\n",
              "3       0.0  1.0  0.0  0.0  0.0\n",
              "4       0.0  1.0  0.0  0.0  0.0\n",
              "...     ...  ...  ...  ...  ...\n",
              "708025  0.0  0.0  0.0  0.0  1.0\n",
              "708026  0.0  0.0  0.0  0.0  1.0\n",
              "708027  0.0  0.0  0.0  0.0  1.0\n",
              "708028  0.0  0.0  0.0  0.0  1.0\n",
              "708029  0.0  0.0  0.0  0.0  1.0\n",
              "\n",
              "[708030 rows x 5 columns]"
            ],
            "text/html": [
              "\n",
              "  <div id=\"df-f2cdacfb-95c6-48ed-be85-6f45bc40185e\">\n",
              "    <div class=\"colab-df-container\">\n",
              "      <div>\n",
              "<style scoped>\n",
              "    .dataframe tbody tr th:only-of-type {\n",
              "        vertical-align: middle;\n",
              "    }\n",
              "\n",
              "    .dataframe tbody tr th {\n",
              "        vertical-align: top;\n",
              "    }\n",
              "\n",
              "    .dataframe thead th {\n",
              "        text-align: right;\n",
              "    }\n",
              "</style>\n",
              "<table border=\"1\" class=\"dataframe\">\n",
              "  <thead>\n",
              "    <tr style=\"text-align: right;\">\n",
              "      <th></th>\n",
              "      <th>0</th>\n",
              "      <th>1</th>\n",
              "      <th>2</th>\n",
              "      <th>3</th>\n",
              "      <th>4</th>\n",
              "    </tr>\n",
              "  </thead>\n",
              "  <tbody>\n",
              "    <tr>\n",
              "      <th>0</th>\n",
              "      <td>0.0</td>\n",
              "      <td>1.0</td>\n",
              "      <td>0.0</td>\n",
              "      <td>0.0</td>\n",
              "      <td>0.0</td>\n",
              "    </tr>\n",
              "    <tr>\n",
              "      <th>1</th>\n",
              "      <td>0.0</td>\n",
              "      <td>1.0</td>\n",
              "      <td>0.0</td>\n",
              "      <td>0.0</td>\n",
              "      <td>0.0</td>\n",
              "    </tr>\n",
              "    <tr>\n",
              "      <th>2</th>\n",
              "      <td>0.0</td>\n",
              "      <td>1.0</td>\n",
              "      <td>0.0</td>\n",
              "      <td>0.0</td>\n",
              "      <td>0.0</td>\n",
              "    </tr>\n",
              "    <tr>\n",
              "      <th>3</th>\n",
              "      <td>0.0</td>\n",
              "      <td>1.0</td>\n",
              "      <td>0.0</td>\n",
              "      <td>0.0</td>\n",
              "      <td>0.0</td>\n",
              "    </tr>\n",
              "    <tr>\n",
              "      <th>4</th>\n",
              "      <td>0.0</td>\n",
              "      <td>1.0</td>\n",
              "      <td>0.0</td>\n",
              "      <td>0.0</td>\n",
              "      <td>0.0</td>\n",
              "    </tr>\n",
              "    <tr>\n",
              "      <th>...</th>\n",
              "      <td>...</td>\n",
              "      <td>...</td>\n",
              "      <td>...</td>\n",
              "      <td>...</td>\n",
              "      <td>...</td>\n",
              "    </tr>\n",
              "    <tr>\n",
              "      <th>708025</th>\n",
              "      <td>0.0</td>\n",
              "      <td>0.0</td>\n",
              "      <td>0.0</td>\n",
              "      <td>0.0</td>\n",
              "      <td>1.0</td>\n",
              "    </tr>\n",
              "    <tr>\n",
              "      <th>708026</th>\n",
              "      <td>0.0</td>\n",
              "      <td>0.0</td>\n",
              "      <td>0.0</td>\n",
              "      <td>0.0</td>\n",
              "      <td>1.0</td>\n",
              "    </tr>\n",
              "    <tr>\n",
              "      <th>708027</th>\n",
              "      <td>0.0</td>\n",
              "      <td>0.0</td>\n",
              "      <td>0.0</td>\n",
              "      <td>0.0</td>\n",
              "      <td>1.0</td>\n",
              "    </tr>\n",
              "    <tr>\n",
              "      <th>708028</th>\n",
              "      <td>0.0</td>\n",
              "      <td>0.0</td>\n",
              "      <td>0.0</td>\n",
              "      <td>0.0</td>\n",
              "      <td>1.0</td>\n",
              "    </tr>\n",
              "    <tr>\n",
              "      <th>708029</th>\n",
              "      <td>0.0</td>\n",
              "      <td>0.0</td>\n",
              "      <td>0.0</td>\n",
              "      <td>0.0</td>\n",
              "      <td>1.0</td>\n",
              "    </tr>\n",
              "  </tbody>\n",
              "</table>\n",
              "<p>708030 rows × 5 columns</p>\n",
              "</div>\n",
              "      <button class=\"colab-df-convert\" onclick=\"convertToInteractive('df-f2cdacfb-95c6-48ed-be85-6f45bc40185e')\"\n",
              "              title=\"Convert this dataframe to an interactive table.\"\n",
              "              style=\"display:none;\">\n",
              "        \n",
              "  <svg xmlns=\"http://www.w3.org/2000/svg\" height=\"24px\"viewBox=\"0 0 24 24\"\n",
              "       width=\"24px\">\n",
              "    <path d=\"M0 0h24v24H0V0z\" fill=\"none\"/>\n",
              "    <path d=\"M18.56 5.44l.94 2.06.94-2.06 2.06-.94-2.06-.94-.94-2.06-.94 2.06-2.06.94zm-11 1L8.5 8.5l.94-2.06 2.06-.94-2.06-.94L8.5 2.5l-.94 2.06-2.06.94zm10 10l.94 2.06.94-2.06 2.06-.94-2.06-.94-.94-2.06-.94 2.06-2.06.94z\"/><path d=\"M17.41 7.96l-1.37-1.37c-.4-.4-.92-.59-1.43-.59-.52 0-1.04.2-1.43.59L10.3 9.45l-7.72 7.72c-.78.78-.78 2.05 0 2.83L4 21.41c.39.39.9.59 1.41.59.51 0 1.02-.2 1.41-.59l7.78-7.78 2.81-2.81c.8-.78.8-2.07 0-2.86zM5.41 20L4 18.59l7.72-7.72 1.47 1.35L5.41 20z\"/>\n",
              "  </svg>\n",
              "      </button>\n",
              "      \n",
              "  <style>\n",
              "    .colab-df-container {\n",
              "      display:flex;\n",
              "      flex-wrap:wrap;\n",
              "      gap: 12px;\n",
              "    }\n",
              "\n",
              "    .colab-df-convert {\n",
              "      background-color: #E8F0FE;\n",
              "      border: none;\n",
              "      border-radius: 50%;\n",
              "      cursor: pointer;\n",
              "      display: none;\n",
              "      fill: #1967D2;\n",
              "      height: 32px;\n",
              "      padding: 0 0 0 0;\n",
              "      width: 32px;\n",
              "    }\n",
              "\n",
              "    .colab-df-convert:hover {\n",
              "      background-color: #E2EBFA;\n",
              "      box-shadow: 0px 1px 2px rgba(60, 64, 67, 0.3), 0px 1px 3px 1px rgba(60, 64, 67, 0.15);\n",
              "      fill: #174EA6;\n",
              "    }\n",
              "\n",
              "    [theme=dark] .colab-df-convert {\n",
              "      background-color: #3B4455;\n",
              "      fill: #D2E3FC;\n",
              "    }\n",
              "\n",
              "    [theme=dark] .colab-df-convert:hover {\n",
              "      background-color: #434B5C;\n",
              "      box-shadow: 0px 1px 3px 1px rgba(0, 0, 0, 0.15);\n",
              "      filter: drop-shadow(0px 1px 2px rgba(0, 0, 0, 0.3));\n",
              "      fill: #FFFFFF;\n",
              "    }\n",
              "  </style>\n",
              "\n",
              "      <script>\n",
              "        const buttonEl =\n",
              "          document.querySelector('#df-f2cdacfb-95c6-48ed-be85-6f45bc40185e button.colab-df-convert');\n",
              "        buttonEl.style.display =\n",
              "          google.colab.kernel.accessAllowed ? 'block' : 'none';\n",
              "\n",
              "        async function convertToInteractive(key) {\n",
              "          const element = document.querySelector('#df-f2cdacfb-95c6-48ed-be85-6f45bc40185e');\n",
              "          const dataTable =\n",
              "            await google.colab.kernel.invokeFunction('convertToInteractive',\n",
              "                                                     [key], {});\n",
              "          if (!dataTable) return;\n",
              "\n",
              "          const docLinkHtml = 'Like what you see? Visit the ' +\n",
              "            '<a target=\"_blank\" href=https://colab.research.google.com/notebooks/data_table.ipynb>data table notebook</a>'\n",
              "            + ' to learn more about interactive tables.';\n",
              "          element.innerHTML = '';\n",
              "          dataTable['output_type'] = 'display_data';\n",
              "          await google.colab.output.renderOutput(dataTable, element);\n",
              "          const docLink = document.createElement('div');\n",
              "          docLink.innerHTML = docLinkHtml;\n",
              "          element.appendChild(docLink);\n",
              "        }\n",
              "      </script>\n",
              "    </div>\n",
              "  </div>\n",
              "  "
            ]
          },
          "metadata": {},
          "execution_count": 121
        }
      ]
    },
    {
      "cell_type": "markdown",
      "source": [
        "XGboost + class weight"
      ],
      "metadata": {
        "id": "uxH3ELwcVNCm"
      }
    },
    {
      "cell_type": "code",
      "source": [
        "from sklearn.utils.class_weight import compute_sample_weight\n",
        "sample_weights = compute_sample_weight(\n",
        "    class_weight='balanced',\n",
        "    y=y_train\n",
        ")"
      ],
      "metadata": {
        "id": "EeTgQ4QNVPPB"
      },
      "execution_count": 44,
      "outputs": []
    },
    {
      "cell_type": "code",
      "source": [
        "import warnings\n",
        "import numpy as np\n",
        "from joblib.parallel import Parallel, delayed\n",
        "from sklearn.base import clone\n",
        "from sklearn.multiclass import _ConstantPredictor, OneVsRestClassifier\n",
        "from sklearn.preprocessing import LabelBinarizer, MultiLabelBinarizer\n",
        "from sklearn.linear_model import SGDClassifier\n",
        "\n",
        "def _fit_binary_new(estimator, X, y, sample_weight, classes=None):\n",
        "    unique_y = np.unique(y)\n",
        "    if len(unique_y) == 1:\n",
        "        if classes is not None:\n",
        "            if y[0] == -1:\n",
        "                c = 0\n",
        "            else:\n",
        "                c = y[0]\n",
        "            warnings.warn(\"Label %s is present in all training examples.\" %\n",
        "                          str(classes[c]))\n",
        "        estimator = _ConstantPredictor().fit(X, unique_y)\n",
        "    else:\n",
        "        estimator = clone(estimator)\n",
        "\n",
        "        # Only this changed\n",
        "        estimator.fit(X, y, sample_weight=sample_weight)\n",
        "    return estimator\n",
        "\n",
        "class OneVsRestClassifierNew(OneVsRestClassifier):\n",
        "\n",
        "    def fit(self, X, y, sample_weight=None):\n",
        "        self.label_binarizer_ = LabelBinarizer(sparse_output=True)\n",
        "        Y = self.label_binarizer_.fit_transform(y)\n",
        "        Y = Y.tocsc()\n",
        "        self.classes_ = self.label_binarizer_.classes_\n",
        "        columns = (col.toarray().ravel() for col in Y.T)\n",
        "        self.estimators_ = Parallel(n_jobs=self.n_jobs)(delayed(_fit_binary_new)(\n",
        "            self.estimator, X, column, sample_weight, classes=[\n",
        "                \"not %s\" % self.label_binarizer_.classes_[i],\n",
        "                self.label_binarizer_.classes_[i]])\n",
        "            for i, column in enumerate(columns))\n",
        "\n",
        "        return self"
      ],
      "metadata": {
        "id": "zwQTMYpdVRJH"
      },
      "execution_count": 45,
      "outputs": []
    },
    {
      "cell_type": "code",
      "source": [
        "from xgboost.sklearn import XGBClassifier\n",
        "from sklearn.multiclass import OneVsRestClassifier\n",
        "\n",
        "clf = OneVsRestClassifier(XGBClassifier(booster='gbtree',objective='multi:softmax',num_class=5,\n",
        "                     max_depth=5,min_child_weight=1,gamma=0,subsample=0.8,colsample_bytree=0.8))\n",
        "    \n",
        "#model = clf.fit(x_train,y_train)\n",
        "model = clf.fit(x_smote_resampled,y_train_smote_onehot)"
      ],
      "metadata": {
        "id": "e4VhMiTvH0BA"
      },
      "execution_count": 122,
      "outputs": []
    },
    {
      "cell_type": "markdown",
      "metadata": {
        "id": "Z9QcyHge0f8g"
      },
      "source": [
        "## 訓練資料預測結果"
      ]
    },
    {
      "cell_type": "code",
      "execution_count": 123,
      "metadata": {
        "id": "SU-bPinv0f8g",
        "colab": {
          "base_uri": "https://localhost:8080/",
          "height": 484
        },
        "outputId": "d4f0e58d-7f97-4049-a65e-a2d0d1912b1f"
      },
      "outputs": [
        {
          "output_type": "stream",
          "name": "stdout",
          "text": [
            "Training UAR(Unweighted Average Recall) : 0.924919366519962\n"
          ]
        },
        {
          "output_type": "execute_result",
          "data": {
            "text/plain": [
              "<sklearn.metrics._plot.confusion_matrix.ConfusionMatrixDisplay at 0x7f0b5ce47550>"
            ]
          },
          "metadata": {},
          "execution_count": 123
        },
        {
          "output_type": "display_data",
          "data": {
            "text/plain": [
              "<Figure size 640x480 with 2 Axes>"
            ],
            "image/png": "[encoded data removed]"
          },
          "metadata": {}
        }
      ],
      "source": [
        "y_true = training_df['Disease category'] - 1  # 將[1,2,3,4,5]轉換為[0,1,2,3,4]\n",
        "y_pred = []\n",
        "for id in training_id:\n",
        "    mfccs_feature = audio_to_mfccs(training_df[training_df['ID']==id]['wav_path'].values[0])\n",
        "    df = pd.DataFrame(mfccs_feature)\n",
        "\n",
        "    frame_pred = model.predict(df)\n",
        "    frame_pred_results = frame_pred.argmax(axis=1)\n",
        "\n",
        "    person_pred = np.array([np.sum(frame_pred_results==0), np.sum(frame_pred_results==1), np.sum(frame_pred_results==2), np.sum(frame_pred_results==3), np.sum(frame_pred_results==4)]).argmax()  # 注意!如三類別相同票數，預測會為0\n",
        "\n",
        "    y_pred.append(person_pred)\n",
        "\n",
        "results_recall = recall_score(y_true, y_pred, average=None)\n",
        "print(\"Training UAR(Unweighted Average Recall) :\", results_recall.mean())\n",
        "\n",
        "ConfusionMatrixDisplay(confusion_matrix(y_true, y_pred)).plot(cmap='Blues')"
      ]
    },
    {
      "cell_type": "markdown",
      "metadata": {
        "id": "B10Wk9QP0f8g"
      },
      "source": [
        "# 驗證資料測試結果"
      ]
    },
    {
      "cell_type": "code",
      "execution_count": 124,
      "metadata": {
        "id": "WzR8pEBO0f8h",
        "colab": {
          "base_uri": "https://localhost:8080/",
          "height": 484
        },
        "outputId": "ed30f567-6e18-43c9-8f80-710ad5a8744c"
      },
      "outputs": [
        {
          "output_type": "stream",
          "name": "stdout",
          "text": [
            "Test UAR(Unweighted Average Recall) : 0.5044423777416105\n"
          ]
        },
        {
          "output_type": "execute_result",
          "data": {
            "text/plain": [
              "<sklearn.metrics._plot.confusion_matrix.ConfusionMatrixDisplay at 0x7f0b5bf96200>"
            ]
          },
          "metadata": {},
          "execution_count": 124
        },
        {
          "output_type": "display_data",
          "data": {
            "text/plain": [
              "<Figure size 640x480 with 2 Axes>"
            ],
            "image/png": "[encoded data removed]"
          },
          "metadata": {}
        }
      ],
      "source": [
        "# model = load_model(MODEL_SAVE_NAME + \".h5\")\n",
        "\n",
        "y_true = test_df['Disease category'] - 1  # 將[1,2,3,4,5]轉換為[0,1,2,3,4]\n",
        "y_pred = []\n",
        "for id in test_df['ID'].tolist():\n",
        "    mfccs_feature = audio_to_mfccs(test_df[test_df['ID']==id]['wav_path'].values[0])\n",
        "    df = pd.DataFrame(mfccs_feature)\n",
        "\n",
        "    frame_pred = model.predict(df)\n",
        "    frame_pred_results = frame_pred.argmax(axis=1)\n",
        "\n",
        "    person_pred = np.array([np.sum(frame_pred_results==0), np.sum(frame_pred_results==1), np.sum(frame_pred_results==2), np.sum(frame_pred_results==3), np.sum(frame_pred_results==4)]).argmax()  # 注意!如三類別相同票數，預測會為0\n",
        "\n",
        "    y_pred.append(person_pred)\n",
        "    # print(np.array([np.sum(frame_pred_results==0), np.sum(frame_pred_results==1), np.sum(frame_pred_results==2)]))\n",
        "    # print(frame_pred)\n",
        "\n",
        "results_recall = recall_score(y_true, y_pred, average=None)\n",
        "print(\"Test UAR(Unweighted Average Recall) :\", results_recall.mean())\n",
        "\n",
        "ConfusionMatrixDisplay(confusion_matrix(y_true, y_pred)).plot(cmap='Blues')\n",
        "\n",
        "#加入nomal audio的augmentation UAR:0.51"
      ]
    },
    {
      "cell_type": "markdown",
      "source": [
        "**Test UAR**\n",
        "\n",
        "*   XGBoost: 0.47\n",
        "*   XGBoost + SMOTE(over-sampling): 0.50\n",
        "*   XGBoost + \n",
        "\n",
        "\n",
        "\n"
      ],
      "metadata": {
        "id": "gH0loVxgXgF3"
      }
    }
  ],
  "metadata": {
    "accelerator": "GPU",
    "colab": {
      "provenance": [],
      "toc_visible": true
    },
    "gpuClass": "standard",
    "kernelspec": {
      "display_name": "Python 3 (ipykernel)",
      "language": "python",
      "name": "python3"
    },
    "language_info": {
      "codemirror_mode": {
        "name": "ipython",
        "version": 3
      },
      "file_extension": ".py",
      "mimetype": "text/x-python",
      "name": "python",
      "nbconvert_exporter": "python",
      "pygments_lexer": "ipython3",
      "version": "3.10.7"
    },
    "vscode": {
      "interpreter": {
        "hash": "f97432c16914304dbd818b138841742b9483a5a148ca981647dc7438178b3282"
      }
    }
  },
  "nbformat": 4,
  "nbformat_minor": 0
}
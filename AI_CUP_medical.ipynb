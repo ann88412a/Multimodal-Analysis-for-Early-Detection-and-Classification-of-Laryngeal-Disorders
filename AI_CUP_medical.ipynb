{
  "cells": [
    {
      "cell_type": "markdown",
      "metadata": {
        "id": "d7Ti1UYvMSw7"
      },
      "source": [
        "# 掛載雲端硬碟"
      ]
    },
    {
      "cell_type": "code",
      "execution_count": 1,
      "metadata": {
        "colab": {
          "base_uri": "https://localhost:8080/"
        },
        "id": "ZtZokLx1Md34",
        "outputId": "114ff0ba-f62b-489a-b7e6-b31677c356eb"
      },
      "outputs": [
        {
          "output_type": "stream",
          "name": "stdout",
          "text": [
            "Mounted at /content/drive\n"
          ]
        }
      ],
      "source": [
        "import os\n",
        "from google.colab import drive\n",
        "\n",
        "drive.mount('/content/drive')\n",
        "\n",
        "os.chdir('/content/drive/MyDrive/Colab Notebooks/Multimodal-Analysis-for-Early-Detection-and-Classification-of-Laryngeal-Disorders')"
      ]
    },
    {
      "cell_type": "markdown",
      "metadata": {
        "id": "B1ajdq9E-A5O"
      },
      "source": [
        "# 載入套件"
      ]
    },
    {
      "cell_type": "code",
      "execution_count": 2,
      "metadata": {
        "id": "st1ZzC2o-A5P"
      },
      "outputs": [],
      "source": [
        "import numpy as np\n",
        "import pandas as pd\n",
        "import librosa\n",
        "\n",
        "import tensorflow as tf\n",
        "from tensorflow.keras.layers import Activation, BatchNormalization, Dense, LayerNormalization, Dropout\n",
        "from tensorflow.keras.models import Sequential, load_model\n",
        "from tensorflow.keras.callbacks import EarlyStopping, ModelCheckpoint\n",
        "\n",
        "from sklearn.model_selection import train_test_split\n",
        "from sklearn.metrics import confusion_matrix, ConfusionMatrixDisplay, recall_score"
      ]
    },
    {
      "cell_type": "markdown",
      "metadata": {
        "id": "yE0AR8P1-A5Q"
      },
      "source": [
        "# 模型架構"
      ]
    },
    {
      "cell_type": "code",
      "execution_count": 3,
      "metadata": {
        "id": "syU-2mCr-A5Q"
      },
      "outputs": [],
      "source": [
        "# default hyperparameters\n",
        "# NEURONS = 300\n",
        "# HIDDEN_LAYERS = 3\n",
        "\n",
        "# def create_DNN(input_shape, neurons = NEURONS, hidden_layers = HIDDEN_LAYERS, learning_rate = 0.001, verbose=0):\n",
        "#     model = Sequential()\n",
        "\n",
        "#     model.add(Dense(neurons, input_dim=input_shape))\n",
        "#     model.add(Activation('relu'))\n",
        "\n",
        "#     for i in range(hidden_layers-1):\n",
        "#         model.add(Dense(neurons))\n",
        "#         model.add(Activation('relu'))\n",
        "#         model.add(Dropout(0.2))\n",
        "\n",
        "#     model.add(Dense(5))\n",
        "#     model.add(Activation('softmax'))\n",
        "\n",
        "#     opt = tf.keras.optimizers.Adam(learning_rate=learning_rate)\n",
        "#     model.compile(loss='categorical_crossentropy', optimizer=opt, metrics=['accuracy']) # categorical_crossentropy\n",
        "\n",
        "#     if verbose:\n",
        "#         model.summary()\n",
        "    \n",
        "#     return model\n",
        "\n",
        "\n",
        "def create_DNN(input_shape, learning_rate = 0.001, dropout_rate = 0.2, verbose=0):\n",
        "    model = Sequential()\n",
        "\n",
        "    model.add(Dense(512, input_dim=input_shape))\n",
        "    model.add(Activation('relu'))\n",
        "    model.add(Dropout(dropout_rate))\n",
        "    \n",
        "    model.add(Dense(256, input_dim=input_shape))\n",
        "    model.add(Activation('relu'))\n",
        "    model.add(Dropout(dropout_rate))\n",
        "    \n",
        "    model.add(Dense(128, input_dim=input_shape))\n",
        "    model.add(Activation('relu'))\n",
        "    model.add(Dropout(dropout_rate))\n",
        "\n",
        "    model.add(Dense(64, input_dim=input_shape))\n",
        "    model.add(Activation('selu'))\n",
        "    model.add(Dropout(dropout_rate))\n",
        "\n",
        "    model.add(Dense(32, input_dim=input_shape))\n",
        "    model.add(Activation('selu'))\n",
        "    model.add(Dropout(dropout_rate))\n",
        "    \n",
        "\n",
        "    \n",
        "    model.add(Dense(5))\n",
        "    model.add(Activation('softmax'))\n",
        "\n",
        "    opt = tf.keras.optimizers.Adam(learning_rate=learning_rate)\n",
        "    model.compile(loss='categorical_crossentropy', optimizer='adam', metrics=['accuracy']) # categorical_crossentropy\n",
        "\n",
        "    if verbose:\n",
        "        model.summary()\n",
        "    \n",
        "    return model"
      ]
    },
    {
      "cell_type": "markdown",
      "metadata": {
        "id": "GHYjBz2M-A5Q"
      },
      "source": [
        "# 載入訓練資料"
      ]
    },
    {
      "cell_type": "code",
      "execution_count": 4,
      "metadata": {
        "colab": {
          "base_uri": "https://localhost:8080/"
        },
        "id": "xI4m8gMW-A5Q",
        "outputId": "5bd821c6-7e51-409a-9e22-3547d6c22407"
      },
      "outputs": [
        {
          "output_type": "stream",
          "name": "stdout",
          "text": [
            "source_df.shape : (1000, 28)\n",
            "source_df.columns : Index(['ID', 'Sex', 'Age', 'Disease category', 'Narrow pitch range',\n",
            "       'Decreased volume', 'Fatigue', 'Dryness', 'Lumping', 'heartburn',\n",
            "       'Choking', 'Eye dryness', 'PND', 'Smoking', 'PPD', 'Drinking',\n",
            "       'frequency', 'Diurnal pattern', 'Onset of dysphonia ', 'Noise at work',\n",
            "       'Occupational vocal demand', 'Diabetes', 'Hypertension', 'CAD',\n",
            "       'Head and Neck Cancer', 'Head injury', 'CVA',\n",
            "       'Voice handicap index - 10'],\n",
            "      dtype='object')\n"
          ]
        }
      ],
      "source": [
        "# 讀取訓練資料集表單\n",
        "source_df = pd.read_csv('./Training_Dataset/training_datalist.csv')\n",
        "\n",
        "print(\"source_df.shape :\", source_df.shape)\n",
        "print(\"source_df.columns :\", source_df.columns)"
      ]
    },
    {
      "cell_type": "markdown",
      "metadata": {
        "id": "ZhAx4-IT-A5R"
      },
      "source": [
        "# 資料前處理"
      ]
    },
    {
      "cell_type": "code",
      "execution_count": 5,
      "metadata": {
        "id": "_gt6wmNJ-A5R"
      },
      "outputs": [],
      "source": [
        "def medical_data_proccessing(df):\n",
        "    medical_col = ['Sex', 'Age', 'Narrow pitch range',\n",
        "                'Decreased volume', 'Fatigue', 'Dryness', 'Lumping', 'heartburn',\n",
        "                'Choking', 'Eye dryness', 'PND', 'Smoking', 'PPD', 'Drinking',\n",
        "                'frequency', 'Diurnal pattern', 'Onset of dysphonia ', 'Noise at work',\n",
        "                'Occupational vocal demand', 'Diabetes', 'Hypertension', 'CAD',\n",
        "                'Head and Neck Cancer', 'Head injury', 'CVA',\n",
        "                'Voice handicap index - 10', 'Disease category']\n",
        "    \n",
        "    # 選定要訓練預測的類別\n",
        "    df = df.loc[df['Disease category'].isin([1, 2, 3, 4, 5]), medical_col]\n",
        "\n",
        "    # 將性別編碼0,1\n",
        "    df['Sex'] = df['Sex'] - 1\n",
        "\n",
        "    # 將空值填0\n",
        "    df['PPD'] = df['PPD'].fillna(0)\n",
        "    df['Voice handicap index - 10'] = df['Voice handicap index - 10'].fillna(0)\n",
        "\n",
        "    # 正規化過大的數值\n",
        "    df['Age'] = df['Age'] / 50\n",
        "    df['Voice handicap index - 10'] = df['Voice handicap index - 10'] / 40\n",
        "\n",
        "    return df"
      ]
    },
    {
      "cell_type": "code",
      "execution_count": 6,
      "metadata": {
        "colab": {
          "base_uri": "https://localhost:8080/"
        },
        "id": "L7_hOcbh-A5R",
        "outputId": "e651a07a-2c64-4be9-bb45-71948e2cfd86"
      },
      "outputs": [
        {
          "output_type": "stream",
          "name": "stdout",
          "text": [
            "Disease category in training_df : [1 2 3 5 4]\n",
            "training_df col : Index(['Sex', 'Age', 'Narrow pitch range', 'Decreased volume', 'Fatigue',\n",
            "       'Dryness', 'Lumping', 'heartburn', 'Choking', 'Eye dryness', 'PND',\n",
            "       'Smoking', 'PPD', 'Drinking', 'frequency', 'Diurnal pattern',\n",
            "       'Onset of dysphonia ', 'Noise at work', 'Occupational vocal demand',\n",
            "       'Diabetes', 'Hypertension', 'CAD', 'Head and Neck Cancer',\n",
            "       'Head injury', 'CVA', 'Voice handicap index - 10', 'Disease category'],\n",
            "      dtype='object')\n",
            "training_df shape : (1000, 27)\n"
          ]
        }
      ],
      "source": [
        "source_df = medical_data_proccessing(source_df)\n",
        "\n",
        "print(\"Disease category in training_df :\", source_df['Disease category'].unique())\n",
        "print(\"training_df col :\", source_df.columns)\n",
        "print(\"training_df shape :\", source_df.shape)"
      ]
    },
    {
      "cell_type": "markdown",
      "metadata": {
        "id": "R_BG4ajaZv8X"
      },
      "source": [
        "## 訓練與驗證資料切分"
      ]
    },
    {
      "cell_type": "code",
      "execution_count": 7,
      "metadata": {
        "colab": {
          "base_uri": "https://localhost:8080/"
        },
        "id": "y4L42QP_Zv8X",
        "outputId": "3108efad-3aa8-4962-a120-0b694d357685"
      },
      "outputs": [
        {
          "output_type": "stream",
          "name": "stdout",
          "text": [
            "training_df shape : (800, 27) , test_df shape : (200, 27)\n"
          ]
        }
      ],
      "source": [
        "training_df, test_df = train_test_split(source_df, test_size=0.2, random_state=333)\n",
        "\n",
        "print(\"training_df shape :\", training_df.shape, \", test_df shape :\", test_df.shape)"
      ]
    },
    {
      "cell_type": "code",
      "execution_count": 8,
      "metadata": {
        "colab": {
          "base_uri": "https://localhost:8080/"
        },
        "id": "YWxTE7RI-A5R",
        "outputId": "1a00fd2a-847e-4399-dd4c-0c5060991196"
      },
      "outputs": [
        {
          "output_type": "stream",
          "name": "stdout",
          "text": [
            "training_data.shape : (800, 31)\n",
            "x_train.shape, y_train.shape : (800, 26) (800, 5)\n",
            "y_train.columns : ['c1', 'c2', 'c3', 'c4', 'c5']\n"
          ]
        }
      ],
      "source": [
        "# 訓練資料標記轉換\n",
        "training_data = training_df.iloc[:, :-1]\n",
        "training_data['c1'] = training_df['Disease category'].map({1:1, 2:0, 3:0, 4:0, 5:0})\n",
        "training_data['c2'] = training_df['Disease category'].map({1:0, 2:1, 3:0, 4:0, 5:0})\n",
        "training_data['c3'] = training_df['Disease category'].map({1:0, 2:0, 3:1, 4:0, 5:0})\n",
        "training_data['c4'] = training_df['Disease category'].map({1:0, 2:0, 3:0, 4:1, 5:0})\n",
        "training_data['c5'] = training_df['Disease category'].map({1:0, 2:0, 3:0, 4:0, 5:1})\n",
        "\n",
        "print(\"training_data.shape :\", training_data.shape)\n",
        "\n",
        "x_train = training_data.iloc[:, :-5]\n",
        "y_train = training_data.iloc[:, -5:]\n",
        "print(\"x_train.shape, y_train.shape :\", x_train.shape, y_train.shape)\n",
        "print(\"y_train.columns :\", y_train.columns.tolist())"
      ]
    },
    {
      "cell_type": "code",
      "execution_count": 9,
      "metadata": {
        "colab": {
          "base_uri": "https://localhost:8080/"
        },
        "id": "ZzOmUJ-YZv8Y",
        "outputId": "9cb449a4-c538-4278-f989-c6f979bf1233"
      },
      "outputs": [
        {
          "output_type": "stream",
          "name": "stdout",
          "text": [
            "test_data.shape : (200, 31)\n",
            "x_val.shape, y_val.shape : (200, 26) (200, 5)\n",
            "y_val.columns : ['c1', 'c2', 'c3', 'c4', 'c5']\n"
          ]
        }
      ],
      "source": [
        "# 驗證資料標記轉換\n",
        "test_data = test_df.iloc[:, :-1]\n",
        "test_data['c1'] = test_df['Disease category'].map({1:1, 2:0, 3:0, 4:0, 5:0})\n",
        "test_data['c2'] = test_df['Disease category'].map({1:0, 2:1, 3:0, 4:0, 5:0})\n",
        "test_data['c3'] = test_df['Disease category'].map({1:0, 2:0, 3:1, 4:0, 5:0})\n",
        "test_data['c4'] = test_df['Disease category'].map({1:0, 2:0, 3:0, 4:1, 5:0})\n",
        "test_data['c5'] = test_df['Disease category'].map({1:0, 2:0, 3:0, 4:0, 5:1})\n",
        "\n",
        "print(\"test_data.shape :\", test_data.shape)\n",
        "\n",
        "x_val = test_data.iloc[:, :-5]\n",
        "y_val = test_data.iloc[:, -5:]\n",
        "print(\"x_val.shape, y_val.shape :\", x_val.shape, y_val.shape)\n",
        "print(\"y_val.columns :\", y_val.columns.tolist())"
      ]
    },
    {
      "cell_type": "markdown",
      "metadata": {
        "id": "1iWD2IWf-A5Q"
      },
      "source": [
        "# 訓練病理特徵"
      ]
    },
    {
      "cell_type": "code",
      "execution_count": 10,
      "metadata": {
        "colab": {
          "base_uri": "https://localhost:8080/"
        },
        "id": "1p5D4gRH-A5R",
        "outputId": "9db18e01-4d55-4302-ae1d-d7e5a2a5d864"
      },
      "outputs": [
        {
          "output_type": "stream",
          "name": "stdout",
          "text": [
            "Model: \"sequential\"\n",
            "_________________________________________________________________\n",
            " Layer (type)                Output Shape              Param #   \n",
            "=================================================================\n",
            " dense (Dense)               (None, 512)               13824     \n",
            "                                                                 \n",
            " activation (Activation)     (None, 512)               0         \n",
            "                                                                 \n",
            " dropout (Dropout)           (None, 512)               0         \n",
            "                                                                 \n",
            " dense_1 (Dense)             (None, 256)               131328    \n",
            "                                                                 \n",
            " activation_1 (Activation)   (None, 256)               0         \n",
            "                                                                 \n",
            " dropout_1 (Dropout)         (None, 256)               0         \n",
            "                                                                 \n",
            " dense_2 (Dense)             (None, 128)               32896     \n",
            "                                                                 \n",
            " activation_2 (Activation)   (None, 128)               0         \n",
            "                                                                 \n",
            " dropout_2 (Dropout)         (None, 128)               0         \n",
            "                                                                 \n",
            " dense_3 (Dense)             (None, 64)                8256      \n",
            "                                                                 \n",
            " activation_3 (Activation)   (None, 64)                0         \n",
            "                                                                 \n",
            " dropout_3 (Dropout)         (None, 64)                0         \n",
            "                                                                 \n",
            " dense_4 (Dense)             (None, 32)                2080      \n",
            "                                                                 \n",
            " activation_4 (Activation)   (None, 32)                0         \n",
            "                                                                 \n",
            " dropout_4 (Dropout)         (None, 32)                0         \n",
            "                                                                 \n",
            " dense_5 (Dense)             (None, 5)                 165       \n",
            "                                                                 \n",
            " activation_5 (Activation)   (None, 5)                 0         \n",
            "                                                                 \n",
            "=================================================================\n",
            "Total params: 188,549\n",
            "Trainable params: 188,549\n",
            "Non-trainable params: 0\n",
            "_________________________________________________________________\n"
          ]
        }
      ],
      "source": [
        "model = create_DNN(input_shape = x_train.shape[1], verbose=1)"
      ]
    },
    {
      "cell_type": "code",
      "execution_count": 11,
      "metadata": {
        "id": "33e77LDL-A5S"
      },
      "outputs": [],
      "source": [
        "#MODEL_SAVE_NAME = \"AI_CUP_medical_sample_model\"\n",
        "\n",
        "#train_results = model.fit(x_train, y_train, batch_size=None, epochs=100, \n",
        "#                              callbacks=[EarlyStopping(monitor='val_loss', patience=10, mode='auto'),\n",
        "#                                         ModelCheckpoint(MODEL_SAVE_NAME+\".h5\", save_best_only=True)], \n",
        "#                              validation_data=(x_val, y_val))"
      ]
    },
    {
      "cell_type": "markdown",
      "source": [
        "SMOTE"
      ],
      "metadata": {
        "id": "CQo0kRZqvMXV"
      }
    },
    {
      "cell_type": "code",
      "source": [
        "from imblearn.over_sampling import SMOTE\n",
        "\n",
        "model_smote = SMOTE()\n",
        "x_smote_resampled, y_smote_resampled = model_smote.fit_resample(x_train,training_df['Disease category'])"
      ],
      "metadata": {
        "id": "abKprsohvIii"
      },
      "execution_count": 20,
      "outputs": []
    },
    {
      "cell_type": "code",
      "source": [
        "from sklearn.preprocessing import OneHotEncoder\n",
        "\n",
        "onehotencoder = OneHotEncoder(categories='auto')\n",
        "data_str_ohe = onehotencoder.fit_transform(y_smote_resampled.to_frame()).toarray()\n",
        "y_train_smote_onehot = pd.DataFrame(data_str_ohe)"
      ],
      "metadata": {
        "id": "WQxMsRNhwULk"
      },
      "execution_count": 41,
      "outputs": []
    },
    {
      "cell_type": "code",
      "source": [
        "y_train_smote_onehot"
      ],
      "metadata": {
        "colab": {
          "base_uri": "https://localhost:8080/",
          "height": 424
        },
        "id": "f2-U4zupwPib",
        "outputId": "08bba1ec-6921-4d32-8dcd-c4f1754db866"
      },
      "execution_count": 42,
      "outputs": [
        {
          "output_type": "execute_result",
          "data": {
            "text/plain": [
              "        0    1    2    3    4\n",
              "0     1.0  0.0  0.0  0.0  0.0\n",
              "1     0.0  1.0  0.0  0.0  0.0\n",
              "2     0.0  0.0  0.0  0.0  1.0\n",
              "3     0.0  1.0  0.0  0.0  0.0\n",
              "4     0.0  1.0  0.0  0.0  0.0\n",
              "...   ...  ...  ...  ...  ...\n",
              "2090  0.0  0.0  0.0  0.0  1.0\n",
              "2091  0.0  0.0  0.0  0.0  1.0\n",
              "2092  0.0  0.0  0.0  0.0  1.0\n",
              "2093  0.0  0.0  0.0  0.0  1.0\n",
              "2094  0.0  0.0  0.0  0.0  1.0\n",
              "\n",
              "[2095 rows x 5 columns]"
            ],
            "text/html": [
              "\n",
              "  <div id=\"df-b4ddc25f-107d-4afa-aeeb-0dc8c032ca18\">\n",
              "    <div class=\"colab-df-container\">\n",
              "      <div>\n",
              "<style scoped>\n",
              "    .dataframe tbody tr th:only-of-type {\n",
              "        vertical-align: middle;\n",
              "    }\n",
              "\n",
              "    .dataframe tbody tr th {\n",
              "        vertical-align: top;\n",
              "    }\n",
              "\n",
              "    .dataframe thead th {\n",
              "        text-align: right;\n",
              "    }\n",
              "</style>\n",
              "<table border=\"1\" class=\"dataframe\">\n",
              "  <thead>\n",
              "    <tr style=\"text-align: right;\">\n",
              "      <th></th>\n",
              "      <th>0</th>\n",
              "      <th>1</th>\n",
              "      <th>2</th>\n",
              "      <th>3</th>\n",
              "      <th>4</th>\n",
              "    </tr>\n",
              "  </thead>\n",
              "  <tbody>\n",
              "    <tr>\n",
              "      <th>0</th>\n",
              "      <td>1.0</td>\n",
              "      <td>0.0</td>\n",
              "      <td>0.0</td>\n",
              "      <td>0.0</td>\n",
              "      <td>0.0</td>\n",
              "    </tr>\n",
              "    <tr>\n",
              "      <th>1</th>\n",
              "      <td>0.0</td>\n",
              "      <td>1.0</td>\n",
              "      <td>0.0</td>\n",
              "      <td>0.0</td>\n",
              "      <td>0.0</td>\n",
              "    </tr>\n",
              "    <tr>\n",
              "      <th>2</th>\n",
              "      <td>0.0</td>\n",
              "      <td>0.0</td>\n",
              "      <td>0.0</td>\n",
              "      <td>0.0</td>\n",
              "      <td>1.0</td>\n",
              "    </tr>\n",
              "    <tr>\n",
              "      <th>3</th>\n",
              "      <td>0.0</td>\n",
              "      <td>1.0</td>\n",
              "      <td>0.0</td>\n",
              "      <td>0.0</td>\n",
              "      <td>0.0</td>\n",
              "    </tr>\n",
              "    <tr>\n",
              "      <th>4</th>\n",
              "      <td>0.0</td>\n",
              "      <td>1.0</td>\n",
              "      <td>0.0</td>\n",
              "      <td>0.0</td>\n",
              "      <td>0.0</td>\n",
              "    </tr>\n",
              "    <tr>\n",
              "      <th>...</th>\n",
              "      <td>...</td>\n",
              "      <td>...</td>\n",
              "      <td>...</td>\n",
              "      <td>...</td>\n",
              "      <td>...</td>\n",
              "    </tr>\n",
              "    <tr>\n",
              "      <th>2090</th>\n",
              "      <td>0.0</td>\n",
              "      <td>0.0</td>\n",
              "      <td>0.0</td>\n",
              "      <td>0.0</td>\n",
              "      <td>1.0</td>\n",
              "    </tr>\n",
              "    <tr>\n",
              "      <th>2091</th>\n",
              "      <td>0.0</td>\n",
              "      <td>0.0</td>\n",
              "      <td>0.0</td>\n",
              "      <td>0.0</td>\n",
              "      <td>1.0</td>\n",
              "    </tr>\n",
              "    <tr>\n",
              "      <th>2092</th>\n",
              "      <td>0.0</td>\n",
              "      <td>0.0</td>\n",
              "      <td>0.0</td>\n",
              "      <td>0.0</td>\n",
              "      <td>1.0</td>\n",
              "    </tr>\n",
              "    <tr>\n",
              "      <th>2093</th>\n",
              "      <td>0.0</td>\n",
              "      <td>0.0</td>\n",
              "      <td>0.0</td>\n",
              "      <td>0.0</td>\n",
              "      <td>1.0</td>\n",
              "    </tr>\n",
              "    <tr>\n",
              "      <th>2094</th>\n",
              "      <td>0.0</td>\n",
              "      <td>0.0</td>\n",
              "      <td>0.0</td>\n",
              "      <td>0.0</td>\n",
              "      <td>1.0</td>\n",
              "    </tr>\n",
              "  </tbody>\n",
              "</table>\n",
              "<p>2095 rows × 5 columns</p>\n",
              "</div>\n",
              "      <button class=\"colab-df-convert\" onclick=\"convertToInteractive('df-b4ddc25f-107d-4afa-aeeb-0dc8c032ca18')\"\n",
              "              title=\"Convert this dataframe to an interactive table.\"\n",
              "              style=\"display:none;\">\n",
              "        \n",
              "  <svg xmlns=\"http://www.w3.org/2000/svg\" height=\"24px\"viewBox=\"0 0 24 24\"\n",
              "       width=\"24px\">\n",
              "    <path d=\"M0 0h24v24H0V0z\" fill=\"none\"/>\n",
              "    <path d=\"M18.56 5.44l.94 2.06.94-2.06 2.06-.94-2.06-.94-.94-2.06-.94 2.06-2.06.94zm-11 1L8.5 8.5l.94-2.06 2.06-.94-2.06-.94L8.5 2.5l-.94 2.06-2.06.94zm10 10l.94 2.06.94-2.06 2.06-.94-2.06-.94-.94-2.06-.94 2.06-2.06.94z\"/><path d=\"M17.41 7.96l-1.37-1.37c-.4-.4-.92-.59-1.43-.59-.52 0-1.04.2-1.43.59L10.3 9.45l-7.72 7.72c-.78.78-.78 2.05 0 2.83L4 21.41c.39.39.9.59 1.41.59.51 0 1.02-.2 1.41-.59l7.78-7.78 2.81-2.81c.8-.78.8-2.07 0-2.86zM5.41 20L4 18.59l7.72-7.72 1.47 1.35L5.41 20z\"/>\n",
              "  </svg>\n",
              "      </button>\n",
              "      \n",
              "  <style>\n",
              "    .colab-df-container {\n",
              "      display:flex;\n",
              "      flex-wrap:wrap;\n",
              "      gap: 12px;\n",
              "    }\n",
              "\n",
              "    .colab-df-convert {\n",
              "      background-color: #E8F0FE;\n",
              "      border: none;\n",
              "      border-radius: 50%;\n",
              "      cursor: pointer;\n",
              "      display: none;\n",
              "      fill: #1967D2;\n",
              "      height: 32px;\n",
              "      padding: 0 0 0 0;\n",
              "      width: 32px;\n",
              "    }\n",
              "\n",
              "    .colab-df-convert:hover {\n",
              "      background-color: #E2EBFA;\n",
              "      box-shadow: 0px 1px 2px rgba(60, 64, 67, 0.3), 0px 1px 3px 1px rgba(60, 64, 67, 0.15);\n",
              "      fill: #174EA6;\n",
              "    }\n",
              "\n",
              "    [theme=dark] .colab-df-convert {\n",
              "      background-color: #3B4455;\n",
              "      fill: #D2E3FC;\n",
              "    }\n",
              "\n",
              "    [theme=dark] .colab-df-convert:hover {\n",
              "      background-color: #434B5C;\n",
              "      box-shadow: 0px 1px 3px 1px rgba(0, 0, 0, 0.15);\n",
              "      filter: drop-shadow(0px 1px 2px rgba(0, 0, 0, 0.3));\n",
              "      fill: #FFFFFF;\n",
              "    }\n",
              "  </style>\n",
              "\n",
              "      <script>\n",
              "        const buttonEl =\n",
              "          document.querySelector('#df-b4ddc25f-107d-4afa-aeeb-0dc8c032ca18 button.colab-df-convert');\n",
              "        buttonEl.style.display =\n",
              "          google.colab.kernel.accessAllowed ? 'block' : 'none';\n",
              "\n",
              "        async function convertToInteractive(key) {\n",
              "          const element = document.querySelector('#df-b4ddc25f-107d-4afa-aeeb-0dc8c032ca18');\n",
              "          const dataTable =\n",
              "            await google.colab.kernel.invokeFunction('convertToInteractive',\n",
              "                                                     [key], {});\n",
              "          if (!dataTable) return;\n",
              "\n",
              "          const docLinkHtml = 'Like what you see? Visit the ' +\n",
              "            '<a target=\"_blank\" href=https://colab.research.google.com/notebooks/data_table.ipynb>data table notebook</a>'\n",
              "            + ' to learn more about interactive tables.';\n",
              "          element.innerHTML = '';\n",
              "          dataTable['output_type'] = 'display_data';\n",
              "          await google.colab.output.renderOutput(dataTable, element);\n",
              "          const docLink = document.createElement('div');\n",
              "          docLink.innerHTML = docLinkHtml;\n",
              "          element.appendChild(docLink);\n",
              "        }\n",
              "      </script>\n",
              "    </div>\n",
              "  </div>\n",
              "  "
            ]
          },
          "metadata": {},
          "execution_count": 42
        }
      ]
    },
    {
      "cell_type": "markdown",
      "source": [
        "XGboost + class weight"
      ],
      "metadata": {
        "id": "v5iUIptFTa87"
      }
    },
    {
      "cell_type": "code",
      "source": [
        "from sklearn.utils.class_weight import compute_sample_weight\n",
        "sample_weights = compute_sample_weight(\n",
        "    class_weight='balanced',\n",
        "    y=y_train\n",
        ")"
      ],
      "metadata": {
        "id": "kfkdwf4KQjsT"
      },
      "execution_count": 12,
      "outputs": []
    },
    {
      "cell_type": "code",
      "source": [
        "import warnings\n",
        "import numpy as np\n",
        "from joblib.parallel import Parallel, delayed\n",
        "from sklearn.base import clone\n",
        "from sklearn.multiclass import _ConstantPredictor, OneVsRestClassifier\n",
        "from sklearn.preprocessing import LabelBinarizer, MultiLabelBinarizer\n",
        "from sklearn.linear_model import SGDClassifier\n",
        "\n",
        "def _fit_binary_new(estimator, X, y, sample_weight, classes=None):\n",
        "    unique_y = np.unique(y)\n",
        "    if len(unique_y) == 1:\n",
        "        if classes is not None:\n",
        "            if y[0] == -1:\n",
        "                c = 0\n",
        "            else:\n",
        "                c = y[0]\n",
        "            warnings.warn(\"Label %s is present in all training examples.\" %\n",
        "                          str(classes[c]))\n",
        "        estimator = _ConstantPredictor().fit(X, unique_y)\n",
        "    else:\n",
        "        estimator = clone(estimator)\n",
        "\n",
        "        # Only this changed\n",
        "        estimator.fit(X, y, sample_weight=sample_weight)\n",
        "    return estimator\n",
        "\n",
        "class OneVsRestClassifierNew(OneVsRestClassifier):\n",
        "\n",
        "    def fit(self, X, y, sample_weight=None):\n",
        "        self.label_binarizer_ = LabelBinarizer(sparse_output=True)\n",
        "        Y = self.label_binarizer_.fit_transform(y)\n",
        "        Y = Y.tocsc()\n",
        "        self.classes_ = self.label_binarizer_.classes_\n",
        "        columns = (col.toarray().ravel() for col in Y.T)\n",
        "        self.estimators_ = Parallel(n_jobs=self.n_jobs)(delayed(_fit_binary_new)(\n",
        "            self.estimator, X, column, sample_weight, classes=[\n",
        "                \"not %s\" % self.label_binarizer_.classes_[i],\n",
        "                self.label_binarizer_.classes_[i]])\n",
        "            for i, column in enumerate(columns))\n",
        "\n",
        "        return self"
      ],
      "metadata": {
        "id": "We46-4PkR11w"
      },
      "execution_count": 13,
      "outputs": []
    },
    {
      "cell_type": "code",
      "source": [
        "from xgboost.sklearn import XGBClassifier\n",
        "from sklearn.multiclass import OneVsRestClassifier\n",
        "\n",
        "#clf = OneVsRestClassifierNew(XGBClassifier(booster='gbtree',objective='multi:softmax',num_class=5,\n",
        "#                     max_depth=5,min_child_weight=1,gamma=0,subsample=0.8,colsample_bytree=0.8))\n",
        "\n",
        "clf = OneVsRestClassifier(XGBClassifier(booster='gbtree',objective='multi:softmax',num_class=5,\n",
        "                     max_depth=5,min_child_weight=1,gamma=0,subsample=0.8,colsample_bytree=0.8))\n",
        "    \n",
        "#model = clf.fit(x_train,y_train,sample_weight=sample_weights)\n",
        "model = clf.fit(x_smote_resampled,y_train_smote_onehot)"
      ],
      "metadata": {
        "id": "Dsqd55gk2xgX"
      },
      "execution_count": 43,
      "outputs": []
    },
    {
      "cell_type": "markdown",
      "metadata": {
        "id": "SvapKuja-A5S"
      },
      "source": [
        "## 訓練資料"
      ]
    },
    {
      "cell_type": "code",
      "execution_count": 44,
      "metadata": {
        "colab": {
          "base_uri": "https://localhost:8080/",
          "height": 484
        },
        "id": "x8sWVI7f-A5S",
        "outputId": "5cdde03b-f8ae-4446-8ad0-19b5aef1c2e6"
      },
      "outputs": [
        {
          "output_type": "stream",
          "name": "stdout",
          "text": [
            "Training UAR(Unweighted Average Recall) : 0.9989071038251366\n"
          ]
        },
        {
          "output_type": "execute_result",
          "data": {
            "text/plain": [
              "<sklearn.metrics._plot.confusion_matrix.ConfusionMatrixDisplay at 0x7f7dc2504580>"
            ]
          },
          "metadata": {},
          "execution_count": 44
        },
        {
          "output_type": "display_data",
          "data": {
            "text/plain": [
              "<Figure size 640x480 with 2 Axes>"
            ],
            "image/png": "[encoded data removed]"
          },
          "metadata": {}
        }
      ],
      "source": [
        "y_pred = model.predict(training_df.iloc[:, :-1]).argmax(axis=1)\n",
        "y_true = training_df['Disease category'] - 1\n",
        "\n",
        "results_recall = recall_score(y_true, y_pred, average=None)\n",
        "print(\"Training UAR(Unweighted Average Recall) :\", results_recall.mean())\n",
        "ConfusionMatrixDisplay(confusion_matrix(y_true, y_pred)).plot(cmap='Blues')"
      ]
    },
    {
      "cell_type": "markdown",
      "metadata": {
        "id": "4P3Jfn2T-A5S"
      },
      "source": [
        "# 驗證資料測試結果"
      ]
    },
    {
      "cell_type": "code",
      "execution_count": 45,
      "metadata": {
        "colab": {
          "base_uri": "https://localhost:8080/",
          "height": 484
        },
        "id": "1MYVtUoG-A5S",
        "outputId": "f647adba-5d16-4bb1-d890-fdb762dc201d"
      },
      "outputs": [
        {
          "output_type": "stream",
          "name": "stdout",
          "text": [
            "Test UAR(Unweighted Average Recall) : 0.5319334194334194\n"
          ]
        },
        {
          "output_type": "execute_result",
          "data": {
            "text/plain": [
              "<sklearn.metrics._plot.confusion_matrix.ConfusionMatrixDisplay at 0x7f7dc26b1900>"
            ]
          },
          "metadata": {},
          "execution_count": 45
        },
        {
          "output_type": "display_data",
          "data": {
            "text/plain": [
              "<Figure size 640x480 with 2 Axes>"
            ],
            "image/png": "[encoded data removed]"
          },
          "metadata": {}
        }
      ],
      "source": [
        "y_pred = model.predict(test_df.iloc[:, :-1]).argmax(axis=1)\n",
        "y_true = test_df['Disease category'] - 1\n",
        "\n",
        "results_recall = recall_score(y_true, y_pred, average=None)\n",
        "print(\"Test UAR(Unweighted Average Recall) :\", results_recall.mean())\n",
        "ConfusionMatrixDisplay(confusion_matrix(y_true, y_pred)).plot(cmap='Blues')\n",
        "\n",
        "#0.47 中間改relu dropout(0.2)"
      ]
    },
    {
      "cell_type": "markdown",
      "source": [
        "**Test UAR**\n",
        "\n",
        "*   XGBoost: 0.35\n",
        "*   XGBoost + SMOTE(over-sampling): 0.53\n",
        "*   XGBoost + "
      ],
      "metadata": {
        "id": "p1lrIN0wxY9F"
      }
    }
  ],
  "metadata": {
    "accelerator": "GPU",
    "colab": {
      "provenance": [],
      "toc_visible": true
    },
    "gpuClass": "standard",
    "kernelspec": {
      "display_name": "Python 3 (ipykernel)",
      "language": "python",
      "name": "python3"
    },
    "language_info": {
      "codemirror_mode": {
        "name": "ipython",
        "version": 3
      },
      "file_extension": ".py",
      "mimetype": "text/x-python",
      "name": "python",
      "nbconvert_exporter": "python",
      "pygments_lexer": "ipython3",
      "version": "3.9.13"
    },
    "vscode": {
      "interpreter": {
        "hash": "f97432c16914304dbd818b138841742b9483a5a148ca981647dc7438178b3282"
      }
    }
  },
  "nbformat": 4,
  "nbformat_minor": 0
}
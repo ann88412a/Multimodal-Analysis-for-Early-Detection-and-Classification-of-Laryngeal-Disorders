{
 "cells": [
  {
   "cell_type": "markdown",
   "metadata": {
    "id": "d7Ti1UYvMSw7"
   },
   "source": [
    "# 掛載雲端硬碟"
   ]
  },
  {
   "cell_type": "code",
   "execution_count": 440,
   "metadata": {
    "colab": {
     "base_uri": "https://localhost:8080/"
    },
    "executionInfo": {
     "elapsed": 21251,
     "status": "ok",
     "timestamp": 1682279680475,
     "user": {
      "displayName": "陳韋任",
      "userId": "17933863880339851010"
     },
     "user_tz": -480
    },
    "id": "ZtZokLx1Md34",
    "outputId": "714b2645-efcf-435e-f77d-d5b21ba8488c"
   },
   "outputs": [],
   "source": [
    "# import os\n",
    "# from google.colab import drive\n",
    "\n",
    "# drive.mount('/content/drive')\n",
    "\n",
    "# os.chdir('/content/drive/MyDrive/Colab Notebooks/AI_CUP_DemoCode/TrainingData/')"
   ]
  },
  {
   "cell_type": "markdown",
   "metadata": {
    "id": "B1ajdq9E-A5O"
   },
   "source": [
    "# 載入套件"
   ]
  },
  {
   "cell_type": "code",
   "execution_count": 441,
   "metadata": {
    "executionInfo": {
     "elapsed": 8010,
     "status": "ok",
     "timestamp": 1682279688482,
     "user": {
      "displayName": "陳韋任",
      "userId": "17933863880339851010"
     },
     "user_tz": -480
    },
    "id": "st1ZzC2o-A5P"
   },
   "outputs": [],
   "source": [
    "import numpy as np\n",
    "import pandas as pd\n",
    "import librosa\n",
    "\n",
    "import tensorflow as tf\n",
    "from tensorflow.keras.layers import Activation, BatchNormalization, Dense, LayerNormalization, Dropout\n",
    "from tensorflow.keras.models import Sequential, load_model\n",
    "from tensorflow.keras.callbacks import EarlyStopping, ModelCheckpoint\n",
    "\n",
    "from sklearn.model_selection import train_test_split\n",
    "from sklearn.metrics import confusion_matrix, ConfusionMatrixDisplay, recall_score"
   ]
  },
  {
   "cell_type": "markdown",
   "metadata": {
    "id": "yE0AR8P1-A5Q"
   },
   "source": [
    "# 模型架構"
   ]
  },
  {
   "cell_type": "code",
   "execution_count": 442,
   "metadata": {
    "executionInfo": {
     "elapsed": 4,
     "status": "ok",
     "timestamp": 1682279688483,
     "user": {
      "displayName": "陳韋任",
      "userId": "17933863880339851010"
     },
     "user_tz": -480
    },
    "id": "syU-2mCr-A5Q"
   },
   "outputs": [],
   "source": [
    "# default hyperparameters\n",
    "NEURONS = 300\n",
    "HIDDEN_LAYERS = 3\n",
    "\n",
    "# def create_DNN(input_shape, neurons = NEURONS, hidden_layers = HIDDEN_LAYERS, learning_rate = 0.001, verbose=0):\n",
    "#     model = Sequential()\n",
    "\n",
    "#     model.add(Dense(neurons, input_dim=input_shape))\n",
    "#     model.add(Activation('relu'))\n",
    "\n",
    "#     for i in range(hidden_layers-1):\n",
    "#         model.add(Dense(neurons))\n",
    "#         model.add(Activation('relu'))\n",
    "#         model.add(Dropout(0.2))\n",
    "\n",
    "#     model.add(Dense(5))\n",
    "#     model.add(Activation('softmax'))\n",
    "\n",
    "#     opt = tf.keras.optimizers.Adam(learning_rate=learning_rate)\n",
    "#     model.compile(loss='categorical_crossentropy', optimizer=opt, metrics=['accuracy']) # categorical_crossentropy\n",
    "\n",
    "#     if verbose:\n",
    "#         model.summary()\n",
    "    \n",
    "#     return model\n",
    "\n",
    "\n",
    "def create_DNN(input_shape, learning_rate = 0.001, dropout_rate = 0.2, verbose=0):\n",
    "    model = Sequential()\n",
    "\n",
    "    model.add(Dense(512, input_dim=input_shape))\n",
    "    model.add(Activation('relu'))\n",
    "    model.add(Dropout(dropout_rate))\n",
    "    \n",
    "    model.add(Dense(256, input_dim=input_shape))\n",
    "    model.add(Activation('relu'))\n",
    "    model.add(Dropout(dropout_rate))\n",
    "    \n",
    "    model.add(Dense(128, input_dim=input_shape))\n",
    "    model.add(Activation('relu'))\n",
    "    model.add(Dropout(dropout_rate))\n",
    "\n",
    "    model.add(Dense(64, input_dim=input_shape))\n",
    "    model.add(Activation('selu'))\n",
    "    model.add(Dropout(dropout_rate))\n",
    "\n",
    "    model.add(Dense(32, input_dim=input_shape))\n",
    "    model.add(Activation('selu'))\n",
    "    model.add(Dropout(dropout_rate))\n",
    "    \n",
    "\n",
    "    \n",
    "    model.add(Dense(5))\n",
    "    model.add(Activation('softmax'))\n",
    "\n",
    "    opt = tf.keras.optimizers.Adam(learning_rate=learning_rate)\n",
    "    model.compile(loss='categorical_crossentropy', optimizer=opt, metrics=['accuracy']) # categorical_crossentropy\n",
    "\n",
    "    if verbose:\n",
    "        model.summary()\n",
    "    \n",
    "    return model"
   ]
  },
  {
   "cell_type": "markdown",
   "metadata": {
    "id": "GHYjBz2M-A5Q"
   },
   "source": [
    "# 載入訓練資料"
   ]
  },
  {
   "cell_type": "code",
   "execution_count": 443,
   "metadata": {
    "colab": {
     "base_uri": "https://localhost:8080/"
    },
    "executionInfo": {
     "elapsed": 580,
     "status": "ok",
     "timestamp": 1682279689060,
     "user": {
      "displayName": "陳韋任",
      "userId": "17933863880339851010"
     },
     "user_tz": -480
    },
    "id": "xI4m8gMW-A5Q",
    "outputId": "4676990a-8a5f-4dfa-ee2e-3a1a980874d1"
   },
   "outputs": [
    {
     "name": "stdout",
     "output_type": "stream",
     "text": [
      "source_df.shape : (1000, 28)\n",
      "source_df.columns : Index(['ID', 'Sex', 'Age', 'Disease category', 'Narrow pitch range',\n",
      "       'Decreased volume', 'Fatigue', 'Dryness', 'Lumping', 'heartburn',\n",
      "       'Choking', 'Eye dryness', 'PND', 'Smoking', 'PPD', 'Drinking',\n",
      "       'frequency', 'Diurnal pattern', 'Onset of dysphonia ', 'Noise at work',\n",
      "       'Occupational vocal demand', 'Diabetes', 'Hypertension', 'CAD',\n",
      "       'Head and Neck Cancer', 'Head injury', 'CVA',\n",
      "       'Voice handicap index - 10'],\n",
      "      dtype='object')\n"
     ]
    }
   ],
   "source": [
    "# 讀取訓練資料集表單\n",
    "source_df = pd.read_csv('./Training_Dataset/training_datalist.csv')\n",
    "\n",
    "print(\"source_df.shape :\", source_df.shape)\n",
    "print(\"source_df.columns :\", source_df.columns)"
   ]
  },
  {
   "cell_type": "markdown",
   "metadata": {
    "id": "ZhAx4-IT-A5R"
   },
   "source": [
    "# 資料前處理"
   ]
  },
  {
   "cell_type": "code",
   "execution_count": 444,
   "metadata": {
    "executionInfo": {
     "elapsed": 6,
     "status": "ok",
     "timestamp": 1682279689060,
     "user": {
      "displayName": "陳韋任",
      "userId": "17933863880339851010"
     },
     "user_tz": -480
    },
    "id": "_gt6wmNJ-A5R"
   },
   "outputs": [],
   "source": [
    "def medical_data_proccessing(df):\n",
    "    medical_col = ['Sex', 'Age', 'Narrow pitch range',\n",
    "                'Decreased volume', 'Fatigue', 'Dryness', 'Lumping', 'heartburn',\n",
    "                'Choking', 'Eye dryness', 'PND', 'Smoking', 'PPD', 'Drinking',\n",
    "                'frequency', 'Diurnal pattern', 'Onset of dysphonia ', 'Noise at work',\n",
    "                'Occupational vocal demand', 'Diabetes', 'Hypertension', 'CAD',\n",
    "                'Head and Neck Cancer', 'Head injury', 'CVA',\n",
    "                'Voice handicap index - 10', 'Disease category']\n",
    "    \n",
    "    # 選定要訓練預測的類別\n",
    "    df = df.loc[df['Disease category'].isin([1, 2, 3, 4, 5]), medical_col]\n",
    "\n",
    "    # 將性別編碼0,1\n",
    "    df['Sex'] = df['Sex'] - 1\n",
    "\n",
    "    # 將空值填0\n",
    "    df['PPD'] = df['PPD'].fillna(0)\n",
    "    df['Voice handicap index - 10'] = df['Voice handicap index - 10'].fillna(0)\n",
    "\n",
    "    # 正規化過大的數值\n",
    "    df['Age'] = df['Age'] / 50\n",
    "    df['Voice handicap index - 10'] = df['Voice handicap index - 10'] / 40\n",
    "\n",
    "    return df"
   ]
  },
  {
   "cell_type": "code",
   "execution_count": 445,
   "metadata": {
    "colab": {
     "base_uri": "https://localhost:8080/"
    },
    "executionInfo": {
     "elapsed": 5,
     "status": "ok",
     "timestamp": 1682279689060,
     "user": {
      "displayName": "陳韋任",
      "userId": "17933863880339851010"
     },
     "user_tz": -480
    },
    "id": "L7_hOcbh-A5R",
    "outputId": "781f8421-16e3-4f2a-ac47-16103bcb2214"
   },
   "outputs": [
    {
     "name": "stdout",
     "output_type": "stream",
     "text": [
      "Disease category in training_df : [1 2 3 5 4]\n",
      "training_df col : Index(['Sex', 'Age', 'Narrow pitch range', 'Decreased volume', 'Fatigue',\n",
      "       'Dryness', 'Lumping', 'heartburn', 'Choking', 'Eye dryness', 'PND',\n",
      "       'Smoking', 'PPD', 'Drinking', 'frequency', 'Diurnal pattern',\n",
      "       'Onset of dysphonia ', 'Noise at work', 'Occupational vocal demand',\n",
      "       'Diabetes', 'Hypertension', 'CAD', 'Head and Neck Cancer',\n",
      "       'Head injury', 'CVA', 'Voice handicap index - 10', 'Disease category'],\n",
      "      dtype='object')\n",
      "training_df shape : (1000, 27)\n"
     ]
    }
   ],
   "source": [
    "source_df = medical_data_proccessing(source_df)\n",
    "\n",
    "print(\"Disease category in training_df :\", source_df['Disease category'].unique())\n",
    "print(\"training_df col :\", source_df.columns)\n",
    "print(\"training_df shape :\", source_df.shape)"
   ]
  },
  {
   "cell_type": "markdown",
   "metadata": {
    "id": "R_BG4ajaZv8X"
   },
   "source": [
    "## 訓練與驗證資料切分"
   ]
  },
  {
   "cell_type": "code",
   "execution_count": 446,
   "metadata": {
    "colab": {
     "base_uri": "https://localhost:8080/"
    },
    "executionInfo": {
     "elapsed": 4,
     "status": "ok",
     "timestamp": 1682279689060,
     "user": {
      "displayName": "陳韋任",
      "userId": "17933863880339851010"
     },
     "user_tz": -480
    },
    "id": "y4L42QP_Zv8X",
    "outputId": "67201bb0-b1ef-41ee-d085-e05e1cade244"
   },
   "outputs": [
    {
     "name": "stdout",
     "output_type": "stream",
     "text": [
      "training_df shape : (800, 27) , test_df shape : (200, 27)\n"
     ]
    }
   ],
   "source": [
    "training_df, test_df = train_test_split(source_df, test_size=0.2, random_state=333)\n",
    "\n",
    "print(\"training_df shape :\", training_df.shape, \", test_df shape :\", test_df.shape)"
   ]
  },
  {
   "cell_type": "code",
   "execution_count": 447,
   "metadata": {
    "colab": {
     "base_uri": "https://localhost:8080/"
    },
    "executionInfo": {
     "elapsed": 4,
     "status": "ok",
     "timestamp": 1682279689061,
     "user": {
      "displayName": "陳韋任",
      "userId": "17933863880339851010"
     },
     "user_tz": -480
    },
    "id": "YWxTE7RI-A5R",
    "outputId": "21f8f88f-5840-4909-b89b-dc65e671ccce"
   },
   "outputs": [
    {
     "name": "stdout",
     "output_type": "stream",
     "text": [
      "training_data.shape : (800, 31)\n",
      "x_train.shape, y_train.shape : (800, 26) (800, 5)\n",
      "y_train.columns : ['c1', 'c2', 'c3', 'c4', 'c5']\n"
     ]
    }
   ],
   "source": [
    "# 訓練資料標記轉換\n",
    "training_data = training_df.iloc[:, :-1]\n",
    "training_data['c1'] = training_df['Disease category'].map({1:1, 2:0, 3:0, 4:0, 5:0})\n",
    "training_data['c2'] = training_df['Disease category'].map({1:0, 2:1, 3:0, 4:0, 5:0})\n",
    "training_data['c3'] = training_df['Disease category'].map({1:0, 2:0, 3:1, 4:0, 5:0})\n",
    "training_data['c4'] = training_df['Disease category'].map({1:0, 2:0, 3:0, 4:1, 5:0})\n",
    "training_data['c5'] = training_df['Disease category'].map({1:0, 2:0, 3:0, 4:0, 5:1})\n",
    "\n",
    "print(\"training_data.shape :\", training_data.shape)\n",
    "\n",
    "x_train = training_data.iloc[:, :-5]\n",
    "y_train = training_data.iloc[:, -5:]\n",
    "print(\"x_train.shape, y_train.shape :\", x_train.shape, y_train.shape)\n",
    "print(\"y_train.columns :\", y_train.columns.tolist())"
   ]
  },
  {
   "cell_type": "code",
   "execution_count": 448,
   "metadata": {
    "colab": {
     "base_uri": "https://localhost:8080/"
    },
    "executionInfo": {
     "elapsed": 3,
     "status": "ok",
     "timestamp": 1682279689061,
     "user": {
      "displayName": "陳韋任",
      "userId": "17933863880339851010"
     },
     "user_tz": -480
    },
    "id": "ZzOmUJ-YZv8Y",
    "outputId": "73dfa1b9-6522-4679-c354-a93aec2fa363"
   },
   "outputs": [
    {
     "name": "stdout",
     "output_type": "stream",
     "text": [
      "test_data.shape : (200, 31)\n",
      "x_val.shape, y_val.shape : (200, 26) (200, 5)\n",
      "y_val.columns : ['c1', 'c2', 'c3', 'c4', 'c5']\n"
     ]
    }
   ],
   "source": [
    "# 驗證資料標記轉換\n",
    "test_data = test_df.iloc[:, :-1]\n",
    "test_data['c1'] = test_df['Disease category'].map({1:1, 2:0, 3:0, 4:0, 5:0})\n",
    "test_data['c2'] = test_df['Disease category'].map({1:0, 2:1, 3:0, 4:0, 5:0})\n",
    "test_data['c3'] = test_df['Disease category'].map({1:0, 2:0, 3:1, 4:0, 5:0})\n",
    "test_data['c4'] = test_df['Disease category'].map({1:0, 2:0, 3:0, 4:1, 5:0})\n",
    "test_data['c5'] = test_df['Disease category'].map({1:0, 2:0, 3:0, 4:0, 5:1})\n",
    "\n",
    "print(\"test_data.shape :\", test_data.shape)\n",
    "\n",
    "x_val = test_data.iloc[:, :-5]\n",
    "y_val = test_data.iloc[:, -5:]\n",
    "print(\"x_val.shape, y_val.shape :\", x_val.shape, y_val.shape)\n",
    "print(\"y_val.columns :\", y_val.columns.tolist())"
   ]
  },
  {
   "cell_type": "markdown",
   "metadata": {
    "id": "1iWD2IWf-A5Q"
   },
   "source": [
    "# 訓練病理特徵"
   ]
  },
  {
   "cell_type": "code",
   "execution_count": 449,
   "metadata": {
    "colab": {
     "base_uri": "https://localhost:8080/"
    },
    "executionInfo": {
     "elapsed": 3351,
     "status": "ok",
     "timestamp": 1682279692410,
     "user": {
      "displayName": "陳韋任",
      "userId": "17933863880339851010"
     },
     "user_tz": -480
    },
    "id": "1p5D4gRH-A5R",
    "outputId": "47f9e30b-9230-4154-ee31-e3a386352323"
   },
   "outputs": [
    {
     "name": "stdout",
     "output_type": "stream",
     "text": [
      "Model: \"sequential_34\"\n",
      "_________________________________________________________________\n",
      " Layer (type)                Output Shape              Param #   \n",
      "=================================================================\n",
      " dense_172 (Dense)           (None, 512)               13824     \n",
      "                                                                 \n",
      " activation_172 (Activation)  (None, 512)              0         \n",
      "                                                                 \n",
      " dropout_107 (Dropout)       (None, 512)               0         \n",
      "                                                                 \n",
      " dense_173 (Dense)           (None, 256)               131328    \n",
      "                                                                 \n",
      " activation_173 (Activation)  (None, 256)              0         \n",
      "                                                                 \n",
      " dropout_108 (Dropout)       (None, 256)               0         \n",
      "                                                                 \n",
      " dense_174 (Dense)           (None, 128)               32896     \n",
      "                                                                 \n",
      " activation_174 (Activation)  (None, 128)              0         \n",
      "                                                                 \n",
      " dropout_109 (Dropout)       (None, 128)               0         \n",
      "                                                                 \n",
      " dense_175 (Dense)           (None, 64)                8256      \n",
      "                                                                 \n",
      " activation_175 (Activation)  (None, 64)               0         \n",
      "                                                                 \n",
      " dropout_110 (Dropout)       (None, 64)                0         \n",
      "                                                                 \n",
      " dense_176 (Dense)           (None, 32)                2080      \n",
      "                                                                 \n",
      " activation_176 (Activation)  (None, 32)               0         \n",
      "                                                                 \n",
      " dropout_111 (Dropout)       (None, 32)                0         \n",
      "                                                                 \n",
      " dense_177 (Dense)           (None, 5)                 165       \n",
      "                                                                 \n",
      " activation_177 (Activation)  (None, 5)                0         \n",
      "                                                                 \n",
      "=================================================================\n",
      "Total params: 188,549\n",
      "Trainable params: 188,549\n",
      "Non-trainable params: 0\n",
      "_________________________________________________________________\n"
     ]
    }
   ],
   "source": [
    "model = create_DNN(input_shape = x_train.shape[1], verbose=1)"
   ]
  },
  {
   "cell_type": "code",
   "execution_count": 450,
   "metadata": {
    "colab": {
     "base_uri": "https://localhost:8080/"
    },
    "executionInfo": {
     "elapsed": 10233,
     "status": "ok",
     "timestamp": 1682279702642,
     "user": {
      "displayName": "陳韋任",
      "userId": "17933863880339851010"
     },
     "user_tz": -480
    },
    "id": "33e77LDL-A5S",
    "outputId": "d38a7de2-6282-4de0-9214-d2d12254aca3"
   },
   "outputs": [
    {
     "name": "stdout",
     "output_type": "stream",
     "text": [
      "Epoch 1/100\n",
      "25/25 [==============================] - 1s 10ms/step - loss: 1.3478 - accuracy: 0.4725 - val_loss: 1.0195 - val_accuracy: 0.6100\n",
      "Epoch 2/100\n",
      "25/25 [==============================] - 0s 5ms/step - loss: 1.1455 - accuracy: 0.5550 - val_loss: 0.8815 - val_accuracy: 0.6950\n",
      "Epoch 3/100\n",
      "25/25 [==============================] - 0s 6ms/step - loss: 1.0905 - accuracy: 0.5838 - val_loss: 0.8488 - val_accuracy: 0.7250\n",
      "Epoch 4/100\n",
      "25/25 [==============================] - 0s 5ms/step - loss: 1.0449 - accuracy: 0.6125 - val_loss: 0.8149 - val_accuracy: 0.7050\n",
      "Epoch 5/100\n",
      "25/25 [==============================] - 0s 5ms/step - loss: 0.9932 - accuracy: 0.6350 - val_loss: 0.8172 - val_accuracy: 0.7050\n",
      "Epoch 6/100\n",
      "25/25 [==============================] - 0s 5ms/step - loss: 0.9823 - accuracy: 0.6263 - val_loss: 0.8210 - val_accuracy: 0.7000\n",
      "Epoch 7/100\n",
      "25/25 [==============================] - 0s 6ms/step - loss: 0.9192 - accuracy: 0.6538 - val_loss: 0.8043 - val_accuracy: 0.7100\n",
      "Epoch 8/100\n",
      "25/25 [==============================] - 0s 5ms/step - loss: 0.9053 - accuracy: 0.6662 - val_loss: 0.8078 - val_accuracy: 0.7000\n",
      "Epoch 9/100\n",
      "25/25 [==============================] - 0s 6ms/step - loss: 0.8894 - accuracy: 0.6712 - val_loss: 0.7695 - val_accuracy: 0.7200\n",
      "Epoch 10/100\n",
      "25/25 [==============================] - 0s 5ms/step - loss: 0.8757 - accuracy: 0.6850 - val_loss: 0.7956 - val_accuracy: 0.6900\n",
      "Epoch 11/100\n",
      "25/25 [==============================] - 0s 5ms/step - loss: 0.8122 - accuracy: 0.6925 - val_loss: 0.7723 - val_accuracy: 0.7400\n",
      "Epoch 12/100\n",
      "25/25 [==============================] - 0s 5ms/step - loss: 0.8097 - accuracy: 0.7088 - val_loss: 0.7639 - val_accuracy: 0.7150\n",
      "Epoch 13/100\n",
      "25/25 [==============================] - 0s 5ms/step - loss: 0.8332 - accuracy: 0.6963 - val_loss: 0.7764 - val_accuracy: 0.7250\n",
      "Epoch 14/100\n",
      "25/25 [==============================] - 0s 4ms/step - loss: 0.7524 - accuracy: 0.7225 - val_loss: 0.7957 - val_accuracy: 0.7250\n",
      "Epoch 15/100\n",
      "25/25 [==============================] - 0s 5ms/step - loss: 0.7445 - accuracy: 0.7287 - val_loss: 0.8033 - val_accuracy: 0.7300\n",
      "Epoch 16/100\n",
      "25/25 [==============================] - 0s 4ms/step - loss: 0.6962 - accuracy: 0.7437 - val_loss: 0.8203 - val_accuracy: 0.7300\n",
      "Epoch 17/100\n",
      "25/25 [==============================] - 0s 4ms/step - loss: 0.7089 - accuracy: 0.7462 - val_loss: 0.8617 - val_accuracy: 0.7250\n",
      "Epoch 18/100\n",
      "25/25 [==============================] - 0s 4ms/step - loss: 0.6521 - accuracy: 0.7600 - val_loss: 0.8759 - val_accuracy: 0.7000\n",
      "Epoch 19/100\n",
      "25/25 [==============================] - 0s 4ms/step - loss: 0.6055 - accuracy: 0.7862 - val_loss: 0.9315 - val_accuracy: 0.7100\n",
      "Epoch 20/100\n",
      "25/25 [==============================] - 0s 4ms/step - loss: 0.6093 - accuracy: 0.7775 - val_loss: 0.8710 - val_accuracy: 0.7100\n",
      "Epoch 21/100\n",
      "25/25 [==============================] - 0s 4ms/step - loss: 0.5759 - accuracy: 0.7837 - val_loss: 0.9360 - val_accuracy: 0.6950\n",
      "Epoch 22/100\n",
      "25/25 [==============================] - 0s 4ms/step - loss: 0.5581 - accuracy: 0.7850 - val_loss: 0.9514 - val_accuracy: 0.6850\n"
     ]
    }
   ],
   "source": [
    "MODEL_SAVE_NAME = \"AI_CUP_medical_sample_model\"\n",
    "\n",
    "train_results = model.fit(x_train, y_train, batch_size=None, epochs=100, \n",
    "                              callbacks=[EarlyStopping(monitor='val_loss', patience=10, mode='auto'),\n",
    "                                         ModelCheckpoint(MODEL_SAVE_NAME+\".h5\", save_best_only=True)], \n",
    "                              validation_data=(x_val, y_val))"
   ]
  },
  {
   "cell_type": "markdown",
   "metadata": {
    "id": "SvapKuja-A5S"
   },
   "source": [
    "## 訓練資料"
   ]
  },
  {
   "cell_type": "code",
   "execution_count": 451,
   "metadata": {
    "colab": {
     "base_uri": "https://localhost:8080/",
     "height": 501
    },
    "executionInfo": {
     "elapsed": 999,
     "status": "ok",
     "timestamp": 1682279703630,
     "user": {
      "displayName": "陳韋任",
      "userId": "17933863880339851010"
     },
     "user_tz": -480
    },
    "id": "x8sWVI7f-A5S",
    "outputId": "889ff59a-5085-4e0e-adf1-2afdfca10731"
   },
   "outputs": [
    {
     "name": "stdout",
     "output_type": "stream",
     "text": [
      "25/25 [==============================] - 0s 1ms/step\n",
      "Training UAR(Unweighted Average Recall) : 0.8009547437004805\n"
     ]
    },
    {
     "data": {
      "text/plain": [
       "<sklearn.metrics._plot.confusion_matrix.ConfusionMatrixDisplay at 0x1a3a47dad70>"
      ]
     },
     "execution_count": 451,
     "metadata": {},
     "output_type": "execute_result"
    },
    {
     "data": {
      "image/png": "[encoded data removed]",
      "text/plain": [
       "<Figure size 640x480 with 2 Axes>"
      ]
     },
     "metadata": {},
     "output_type": "display_data"
    }
   ],
   "source": [
    "y_pred = model.predict(training_df.iloc[:, :-1]).argmax(axis=1)\n",
    "y_true = training_df['Disease category'] - 1\n",
    "\n",
    "results_recall = recall_score(y_true, y_pred, average=None)\n",
    "print(\"Training UAR(Unweighted Average Recall) :\", results_recall.mean())\n",
    "ConfusionMatrixDisplay(confusion_matrix(y_true, y_pred)).plot(cmap='Blues')"
   ]
  },
  {
   "cell_type": "markdown",
   "metadata": {
    "id": "4P3Jfn2T-A5S"
   },
   "source": [
    "# 驗證資料測試結果"
   ]
  },
  {
   "cell_type": "code",
   "execution_count": 452,
   "metadata": {
    "colab": {
     "base_uri": "https://localhost:8080/",
     "height": 501
    },
    "executionInfo": {
     "elapsed": 497,
     "status": "ok",
     "timestamp": 1682279704125,
     "user": {
      "displayName": "陳韋任",
      "userId": "17933863880339851010"
     },
     "user_tz": -480
    },
    "id": "1MYVtUoG-A5S",
    "outputId": "606a43fa-07bb-470a-b74c-4f286414058e"
   },
   "outputs": [
    {
     "name": "stdout",
     "output_type": "stream",
     "text": [
      "7/7 [==============================] - 0s 2ms/step\n",
      "Test UAR(Unweighted Average Recall) : 0.4499371311871312\n"
     ]
    },
    {
     "data": {
      "text/plain": [
       "<sklearn.metrics._plot.confusion_matrix.ConfusionMatrixDisplay at 0x1a3942ab3d0>"
      ]
     },
     "execution_count": 452,
     "metadata": {},
     "output_type": "execute_result"
    },
    {
     "data": {
      "image/png": "[encoded data removed]",
      "text/plain": [
       "<Figure size 640x480 with 2 Axes>"
      ]
     },
     "metadata": {},
     "output_type": "display_data"
    }
   ],
   "source": [
    "y_pred = model.predict(test_df.iloc[:, :-1]).argmax(axis=1)\n",
    "y_true = test_df['Disease category'] - 1\n",
    "\n",
    "results_recall = recall_score(y_true, y_pred, average=None)\n",
    "print(\"Test UAR(Unweighted Average Recall) :\", results_recall.mean())\n",
    "ConfusionMatrixDisplay(confusion_matrix(y_true, y_pred)).plot(cmap='Blues')\n",
    "\n",
    "#0.47 中間改relu dropout(0.2)"
   ]
  }
 ],
 "metadata": {
  "accelerator": "GPU",
  "colab": {
   "provenance": [],
   "toc_visible": true
  },
  "gpuClass": "standard",
  "kernelspec": {
   "display_name": "Python 3 (ipykernel)",
   "language": "python",
   "name": "python3"
  },
  "language_info": {
   "codemirror_mode": {
    "name": "ipython",
    "version": 3
   },
   "file_extension": ".py",
   "mimetype": "text/x-python",
   "name": "python",
   "nbconvert_exporter": "python",
   "pygments_lexer": "ipython3",
   "version": "3.10.7"
  },
  "vscode": {
   "interpreter": {
    "hash": "f97432c16914304dbd818b138841742b9483a5a148ca981647dc7438178b3282"
   }
  }
 },
 "nbformat": 4,
 "nbformat_minor": 1
}

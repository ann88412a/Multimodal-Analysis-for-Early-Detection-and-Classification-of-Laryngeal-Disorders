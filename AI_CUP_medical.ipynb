{
 "cells": [
  {
   "cell_type": "markdown",
   "metadata": {
    "id": "d7Ti1UYvMSw7"
   },
   "source": [
    "# 掛載雲端硬碟"
   ]
  },
  {
   "cell_type": "code",
   "execution_count": 16,
   "metadata": {
    "colab": {
     "base_uri": "https://localhost:8080/"
    },
    "executionInfo": {
     "elapsed": 21251,
     "status": "ok",
     "timestamp": 1682279680475,
     "user": {
      "displayName": "陳韋任",
      "userId": "17933863880339851010"
     },
     "user_tz": -480
    },
    "id": "ZtZokLx1Md34",
    "outputId": "714b2645-efcf-435e-f77d-d5b21ba8488c"
   },
   "outputs": [],
   "source": [
    "# import os\n",
    "# from google.colab import drive\n",
    "\n",
    "# drive.mount('/content/drive')\n",
    "\n",
    "# os.chdir('/content/drive/MyDrive/Colab Notebooks/AI_CUP_DemoCode/TrainingData/')"
   ]
  },
  {
   "cell_type": "markdown",
   "metadata": {
    "id": "B1ajdq9E-A5O"
   },
   "source": [
    "# 載入套件"
   ]
  },
  {
   "cell_type": "code",
   "execution_count": 17,
   "metadata": {
    "executionInfo": {
     "elapsed": 8010,
     "status": "ok",
     "timestamp": 1682279688482,
     "user": {
      "displayName": "陳韋任",
      "userId": "17933863880339851010"
     },
     "user_tz": -480
    },
    "id": "st1ZzC2o-A5P"
   },
   "outputs": [],
   "source": [
    "import numpy as np\n",
    "import pandas as pd\n",
    "import librosa\n",
    "\n",
    "import tensorflow as tf\n",
    "from tensorflow.keras.layers import Activation, BatchNormalization, Dense, LayerNormalization, Dropout\n",
    "from tensorflow.keras.models import Sequential, load_model\n",
    "from tensorflow.keras.callbacks import EarlyStopping, ModelCheckpoint\n",
    "\n",
    "from sklearn.model_selection import train_test_split\n",
    "from sklearn.metrics import confusion_matrix, ConfusionMatrixDisplay, recall_score"
   ]
  },
  {
   "cell_type": "markdown",
   "metadata": {
    "id": "yE0AR8P1-A5Q"
   },
   "source": [
    "# 模型架構"
   ]
  },
  {
   "cell_type": "code",
   "execution_count": 18,
   "metadata": {
    "executionInfo": {
     "elapsed": 4,
     "status": "ok",
     "timestamp": 1682279688483,
     "user": {
      "displayName": "陳韋任",
      "userId": "17933863880339851010"
     },
     "user_tz": -480
    },
    "id": "syU-2mCr-A5Q"
   },
   "outputs": [],
   "source": [
    "# default hyperparameters\n",
    "# NEURONS = 300\n",
    "# HIDDEN_LAYERS = 3\n",
    "\n",
    "# def create_DNN(input_shape, neurons = NEURONS, hidden_layers = HIDDEN_LAYERS, learning_rate = 0.001, verbose=0):\n",
    "#     model = Sequential()\n",
    "\n",
    "#     model.add(Dense(neurons, input_dim=input_shape))\n",
    "#     model.add(Activation('relu'))\n",
    "\n",
    "#     for i in range(hidden_layers-1):\n",
    "#         model.add(Dense(neurons))\n",
    "#         model.add(Activation('relu'))\n",
    "#         model.add(Dropout(0.2))\n",
    "\n",
    "#     model.add(Dense(5))\n",
    "#     model.add(Activation('softmax'))\n",
    "\n",
    "#     opt = tf.keras.optimizers.Adam(learning_rate=learning_rate)\n",
    "#     model.compile(loss='categorical_crossentropy', optimizer=opt, metrics=['accuracy']) # categorical_crossentropy\n",
    "\n",
    "#     if verbose:\n",
    "#         model.summary()\n",
    "    \n",
    "#     return model\n",
    "\n",
    "\n",
    "def create_DNN(input_shape, learning_rate = 0.001, dropout_rate = 0.2, verbose=0):\n",
    "    model = Sequential()\n",
    "\n",
    "    model.add(Dense(512, input_dim=input_shape))\n",
    "    model.add(Activation('relu'))\n",
    "    model.add(Dropout(dropout_rate))\n",
    "    \n",
    "    model.add(Dense(256, input_dim=input_shape))\n",
    "    model.add(Activation('relu'))\n",
    "    model.add(Dropout(dropout_rate))\n",
    "    \n",
    "    model.add(Dense(128, input_dim=input_shape))\n",
    "    model.add(Activation('relu'))\n",
    "    model.add(Dropout(dropout_rate))\n",
    "\n",
    "    model.add(Dense(64, input_dim=input_shape))\n",
    "    model.add(Activation('selu'))\n",
    "    model.add(Dropout(dropout_rate))\n",
    "\n",
    "    model.add(Dense(32, input_dim=input_shape))\n",
    "    model.add(Activation('selu'))\n",
    "    model.add(Dropout(dropout_rate))\n",
    "    \n",
    "\n",
    "    \n",
    "    model.add(Dense(5))\n",
    "    model.add(Activation('softmax'))\n",
    "\n",
    "    opt = tf.keras.optimizers.Adam(learning_rate=learning_rate)\n",
    "    model.compile(loss='categorical_crossentropy', optimizer='adam', metrics=['accuracy']) # categorical_crossentropy\n",
    "\n",
    "    if verbose:\n",
    "        model.summary()\n",
    "    \n",
    "    return model"
   ]
  },
  {
   "cell_type": "markdown",
   "metadata": {
    "id": "GHYjBz2M-A5Q"
   },
   "source": [
    "# 載入訓練資料"
   ]
  },
  {
   "cell_type": "code",
   "execution_count": 19,
   "metadata": {
    "colab": {
     "base_uri": "https://localhost:8080/"
    },
    "executionInfo": {
     "elapsed": 580,
     "status": "ok",
     "timestamp": 1682279689060,
     "user": {
      "displayName": "陳韋任",
      "userId": "17933863880339851010"
     },
     "user_tz": -480
    },
    "id": "xI4m8gMW-A5Q",
    "outputId": "4676990a-8a5f-4dfa-ee2e-3a1a980874d1"
   },
   "outputs": [
    {
     "name": "stdout",
     "output_type": "stream",
     "text": [
      "source_df.shape : (1000, 28)\n",
      "source_df.columns : Index(['ID', 'Sex', 'Age', 'Disease category', 'Narrow pitch range',\n",
      "       'Decreased volume', 'Fatigue', 'Dryness', 'Lumping', 'heartburn',\n",
      "       'Choking', 'Eye dryness', 'PND', 'Smoking', 'PPD', 'Drinking',\n",
      "       'frequency', 'Diurnal pattern', 'Onset of dysphonia ', 'Noise at work',\n",
      "       'Occupational vocal demand', 'Diabetes', 'Hypertension', 'CAD',\n",
      "       'Head and Neck Cancer', 'Head injury', 'CVA',\n",
      "       'Voice handicap index - 10'],\n",
      "      dtype='object')\n"
     ]
    }
   ],
   "source": [
    "# 讀取訓練資料集表單\n",
    "source_df = pd.read_csv('./Training_Dataset/training_datalist.csv')\n",
    "\n",
    "print(\"source_df.shape :\", source_df.shape)\n",
    "print(\"source_df.columns :\", source_df.columns)"
   ]
  },
  {
   "cell_type": "markdown",
   "metadata": {
    "id": "ZhAx4-IT-A5R"
   },
   "source": [
    "# 資料前處理"
   ]
  },
  {
   "cell_type": "code",
   "execution_count": 20,
   "metadata": {
    "executionInfo": {
     "elapsed": 6,
     "status": "ok",
     "timestamp": 1682279689060,
     "user": {
      "displayName": "陳韋任",
      "userId": "17933863880339851010"
     },
     "user_tz": -480
    },
    "id": "_gt6wmNJ-A5R"
   },
   "outputs": [],
   "source": [
    "def medical_data_proccessing(df):\n",
    "    medical_col = ['Sex', 'Age', 'Narrow pitch range',\n",
    "                'Decreased volume', 'Fatigue', 'Dryness', 'Lumping', 'heartburn',\n",
    "                'Choking', 'Eye dryness', 'PND', 'Smoking', 'PPD', 'Drinking',\n",
    "                'frequency', 'Diurnal pattern', 'Onset of dysphonia ', 'Noise at work',\n",
    "                'Occupational vocal demand', 'Diabetes', 'Hypertension', 'CAD',\n",
    "                'Head and Neck Cancer', 'Head injury', 'CVA',\n",
    "                'Voice handicap index - 10', 'Disease category']\n",
    "    \n",
    "    # 選定要訓練預測的類別\n",
    "    df = df.loc[df['Disease category'].isin([1, 2, 3, 4, 5]), medical_col]\n",
    "\n",
    "    # 將性別編碼0,1\n",
    "    df['Sex'] = df['Sex'] - 1\n",
    "\n",
    "    # 將空值填0\n",
    "    df['PPD'] = df['PPD'].fillna(0)\n",
    "    df['Voice handicap index - 10'] = df['Voice handicap index - 10'].fillna(0)\n",
    "\n",
    "    # 正規化過大的數值\n",
    "    df['Age'] = df['Age'] / 50\n",
    "    df['Voice handicap index - 10'] = df['Voice handicap index - 10'] / 40\n",
    "\n",
    "    return df"
   ]
  },
  {
   "cell_type": "code",
   "execution_count": 21,
   "metadata": {
    "colab": {
     "base_uri": "https://localhost:8080/"
    },
    "executionInfo": {
     "elapsed": 5,
     "status": "ok",
     "timestamp": 1682279689060,
     "user": {
      "displayName": "陳韋任",
      "userId": "17933863880339851010"
     },
     "user_tz": -480
    },
    "id": "L7_hOcbh-A5R",
    "outputId": "781f8421-16e3-4f2a-ac47-16103bcb2214"
   },
   "outputs": [
    {
     "name": "stdout",
     "output_type": "stream",
     "text": [
      "Disease category in training_df : [1 2 3 5 4]\n",
      "training_df col : Index(['Sex', 'Age', 'Narrow pitch range', 'Decreased volume', 'Fatigue',\n",
      "       'Dryness', 'Lumping', 'heartburn', 'Choking', 'Eye dryness', 'PND',\n",
      "       'Smoking', 'PPD', 'Drinking', 'frequency', 'Diurnal pattern',\n",
      "       'Onset of dysphonia ', 'Noise at work', 'Occupational vocal demand',\n",
      "       'Diabetes', 'Hypertension', 'CAD', 'Head and Neck Cancer',\n",
      "       'Head injury', 'CVA', 'Voice handicap index - 10', 'Disease category'],\n",
      "      dtype='object')\n",
      "training_df shape : (1000, 27)\n"
     ]
    }
   ],
   "source": [
    "source_df = medical_data_proccessing(source_df)\n",
    "\n",
    "print(\"Disease category in training_df :\", source_df['Disease category'].unique())\n",
    "print(\"training_df col :\", source_df.columns)\n",
    "print(\"training_df shape :\", source_df.shape)"
   ]
  },
  {
   "cell_type": "markdown",
   "metadata": {
    "id": "R_BG4ajaZv8X"
   },
   "source": [
    "## 訓練與驗證資料切分"
   ]
  },
  {
   "cell_type": "code",
   "execution_count": 22,
   "metadata": {
    "colab": {
     "base_uri": "https://localhost:8080/"
    },
    "executionInfo": {
     "elapsed": 4,
     "status": "ok",
     "timestamp": 1682279689060,
     "user": {
      "displayName": "陳韋任",
      "userId": "17933863880339851010"
     },
     "user_tz": -480
    },
    "id": "y4L42QP_Zv8X",
    "outputId": "67201bb0-b1ef-41ee-d085-e05e1cade244"
   },
   "outputs": [
    {
     "name": "stdout",
     "output_type": "stream",
     "text": [
      "training_df shape : (800, 27) , test_df shape : (200, 27)\n"
     ]
    }
   ],
   "source": [
    "training_df, test_df = train_test_split(source_df, test_size=0.2, random_state=333)\n",
    "\n",
    "print(\"training_df shape :\", training_df.shape, \", test_df shape :\", test_df.shape)"
   ]
  },
  {
   "cell_type": "code",
   "execution_count": 23,
   "metadata": {
    "colab": {
     "base_uri": "https://localhost:8080/"
    },
    "executionInfo": {
     "elapsed": 4,
     "status": "ok",
     "timestamp": 1682279689061,
     "user": {
      "displayName": "陳韋任",
      "userId": "17933863880339851010"
     },
     "user_tz": -480
    },
    "id": "YWxTE7RI-A5R",
    "outputId": "21f8f88f-5840-4909-b89b-dc65e671ccce"
   },
   "outputs": [
    {
     "name": "stdout",
     "output_type": "stream",
     "text": [
      "training_data.shape : (800, 31)\n",
      "x_train.shape, y_train.shape : (800, 26) (800, 5)\n",
      "y_train.columns : ['c1', 'c2', 'c3', 'c4', 'c5']\n"
     ]
    }
   ],
   "source": [
    "# 訓練資料標記轉換\n",
    "training_data = training_df.iloc[:, :-1]\n",
    "training_data['c1'] = training_df['Disease category'].map({1:1, 2:0, 3:0, 4:0, 5:0})\n",
    "training_data['c2'] = training_df['Disease category'].map({1:0, 2:1, 3:0, 4:0, 5:0})\n",
    "training_data['c3'] = training_df['Disease category'].map({1:0, 2:0, 3:1, 4:0, 5:0})\n",
    "training_data['c4'] = training_df['Disease category'].map({1:0, 2:0, 3:0, 4:1, 5:0})\n",
    "training_data['c5'] = training_df['Disease category'].map({1:0, 2:0, 3:0, 4:0, 5:1})\n",
    "\n",
    "print(\"training_data.shape :\", training_data.shape)\n",
    "\n",
    "x_train = training_data.iloc[:, :-5]\n",
    "y_train = training_data.iloc[:, -5:]\n",
    "print(\"x_train.shape, y_train.shape :\", x_train.shape, y_train.shape)\n",
    "print(\"y_train.columns :\", y_train.columns.tolist())"
   ]
  },
  {
   "cell_type": "code",
   "execution_count": 24,
   "metadata": {
    "colab": {
     "base_uri": "https://localhost:8080/"
    },
    "executionInfo": {
     "elapsed": 3,
     "status": "ok",
     "timestamp": 1682279689061,
     "user": {
      "displayName": "陳韋任",
      "userId": "17933863880339851010"
     },
     "user_tz": -480
    },
    "id": "ZzOmUJ-YZv8Y",
    "outputId": "73dfa1b9-6522-4679-c354-a93aec2fa363"
   },
   "outputs": [
    {
     "name": "stdout",
     "output_type": "stream",
     "text": [
      "test_data.shape : (200, 31)\n",
      "x_val.shape, y_val.shape : (200, 26) (200, 5)\n",
      "y_val.columns : ['c1', 'c2', 'c3', 'c4', 'c5']\n"
     ]
    }
   ],
   "source": [
    "# 驗證資料標記轉換\n",
    "test_data = test_df.iloc[:, :-1]\n",
    "test_data['c1'] = test_df['Disease category'].map({1:1, 2:0, 3:0, 4:0, 5:0})\n",
    "test_data['c2'] = test_df['Disease category'].map({1:0, 2:1, 3:0, 4:0, 5:0})\n",
    "test_data['c3'] = test_df['Disease category'].map({1:0, 2:0, 3:1, 4:0, 5:0})\n",
    "test_data['c4'] = test_df['Disease category'].map({1:0, 2:0, 3:0, 4:1, 5:0})\n",
    "test_data['c5'] = test_df['Disease category'].map({1:0, 2:0, 3:0, 4:0, 5:1})\n",
    "\n",
    "print(\"test_data.shape :\", test_data.shape)\n",
    "\n",
    "x_val = test_data.iloc[:, :-5]\n",
    "y_val = test_data.iloc[:, -5:]\n",
    "print(\"x_val.shape, y_val.shape :\", x_val.shape, y_val.shape)\n",
    "print(\"y_val.columns :\", y_val.columns.tolist())"
   ]
  },
  {
   "cell_type": "markdown",
   "metadata": {
    "id": "1iWD2IWf-A5Q"
   },
   "source": [
    "# 訓練病理特徵"
   ]
  },
  {
   "cell_type": "code",
   "execution_count": 25,
   "metadata": {
    "colab": {
     "base_uri": "https://localhost:8080/"
    },
    "executionInfo": {
     "elapsed": 3351,
     "status": "ok",
     "timestamp": 1682279692410,
     "user": {
      "displayName": "陳韋任",
      "userId": "17933863880339851010"
     },
     "user_tz": -480
    },
    "id": "1p5D4gRH-A5R",
    "outputId": "47f9e30b-9230-4154-ee31-e3a386352323"
   },
   "outputs": [
    {
     "name": "stdout",
     "output_type": "stream",
     "text": [
      "Model: \"sequential_1\"\n",
      "_________________________________________________________________\n",
      " Layer (type)                Output Shape              Param #   \n",
      "=================================================================\n",
      " dense_6 (Dense)             (None, 512)               13824     \n",
      "                                                                 \n",
      " activation_6 (Activation)   (None, 512)               0         \n",
      "                                                                 \n",
      " dropout_5 (Dropout)         (None, 512)               0         \n",
      "                                                                 \n",
      " dense_7 (Dense)             (None, 256)               131328    \n",
      "                                                                 \n",
      " activation_7 (Activation)   (None, 256)               0         \n",
      "                                                                 \n",
      " dropout_6 (Dropout)         (None, 256)               0         \n",
      "                                                                 \n",
      " dense_8 (Dense)             (None, 128)               32896     \n",
      "                                                                 \n",
      " activation_8 (Activation)   (None, 128)               0         \n",
      "                                                                 \n",
      " dropout_7 (Dropout)         (None, 128)               0         \n",
      "                                                                 \n",
      " dense_9 (Dense)             (None, 64)                8256      \n",
      "                                                                 \n",
      " activation_9 (Activation)   (None, 64)                0         \n",
      "                                                                 \n",
      " dropout_8 (Dropout)         (None, 64)                0         \n",
      "                                                                 \n",
      " dense_10 (Dense)            (None, 32)                2080      \n",
      "                                                                 \n",
      " activation_10 (Activation)  (None, 32)                0         \n",
      "                                                                 \n",
      " dropout_9 (Dropout)         (None, 32)                0         \n",
      "                                                                 \n",
      " dense_11 (Dense)            (None, 5)                 165       \n",
      "                                                                 \n",
      " activation_11 (Activation)  (None, 5)                 0         \n",
      "                                                                 \n",
      "=================================================================\n",
      "Total params: 188,549\n",
      "Trainable params: 188,549\n",
      "Non-trainable params: 0\n",
      "_________________________________________________________________\n"
     ]
    }
   ],
   "source": [
    "model = create_DNN(input_shape = x_train.shape[1], verbose=1)"
   ]
  },
  {
   "cell_type": "code",
   "execution_count": 26,
   "metadata": {
    "colab": {
     "base_uri": "https://localhost:8080/"
    },
    "executionInfo": {
     "elapsed": 10233,
     "status": "ok",
     "timestamp": 1682279702642,
     "user": {
      "displayName": "陳韋任",
      "userId": "17933863880339851010"
     },
     "user_tz": -480
    },
    "id": "33e77LDL-A5S",
    "outputId": "d38a7de2-6282-4de0-9214-d2d12254aca3"
   },
   "outputs": [
    {
     "name": "stdout",
     "output_type": "stream",
     "text": [
      "Epoch 1/100\n",
      "25/25 [==============================] - 1s 9ms/step - loss: 1.3338 - accuracy: 0.4863 - val_loss: 0.9336 - val_accuracy: 0.6500\n",
      "Epoch 2/100\n",
      "25/25 [==============================] - 0s 5ms/step - loss: 1.1299 - accuracy: 0.5650 - val_loss: 0.8677 - val_accuracy: 0.6750\n",
      "Epoch 3/100\n",
      "25/25 [==============================] - 0s 5ms/step - loss: 1.0895 - accuracy: 0.5888 - val_loss: 0.8355 - val_accuracy: 0.7050\n",
      "Epoch 4/100\n",
      "25/25 [==============================] - 0s 4ms/step - loss: 1.0738 - accuracy: 0.5875 - val_loss: 0.8973 - val_accuracy: 0.7200\n",
      "Epoch 5/100\n",
      "25/25 [==============================] - 0s 4ms/step - loss: 1.0273 - accuracy: 0.6025 - val_loss: 0.8003 - val_accuracy: 0.7250\n",
      "Epoch 6/100\n",
      "25/25 [==============================] - 0s 4ms/step - loss: 0.9805 - accuracy: 0.6338 - val_loss: 0.7925 - val_accuracy: 0.7350\n",
      "Epoch 7/100\n",
      "25/25 [==============================] - 0s 3ms/step - loss: 0.9379 - accuracy: 0.6500 - val_loss: 0.8083 - val_accuracy: 0.6950\n",
      "Epoch 8/100\n",
      "25/25 [==============================] - 0s 3ms/step - loss: 0.9195 - accuracy: 0.6513 - val_loss: 0.8283 - val_accuracy: 0.6950\n",
      "Epoch 9/100\n",
      "25/25 [==============================] - 0s 4ms/step - loss: 0.8952 - accuracy: 0.6850 - val_loss: 0.7813 - val_accuracy: 0.7150\n",
      "Epoch 10/100\n",
      "25/25 [==============================] - 0s 3ms/step - loss: 0.8664 - accuracy: 0.6775 - val_loss: 0.7829 - val_accuracy: 0.7150\n",
      "Epoch 11/100\n",
      "25/25 [==============================] - 0s 3ms/step - loss: 0.8718 - accuracy: 0.6737 - val_loss: 0.7881 - val_accuracy: 0.7250\n",
      "Epoch 12/100\n",
      "25/25 [==============================] - 0s 3ms/step - loss: 0.8311 - accuracy: 0.6875 - val_loss: 0.7842 - val_accuracy: 0.7200\n",
      "Epoch 13/100\n",
      "25/25 [==============================] - 0s 4ms/step - loss: 0.8298 - accuracy: 0.6900 - val_loss: 0.7737 - val_accuracy: 0.7150\n",
      "Epoch 14/100\n",
      "25/25 [==============================] - 0s 3ms/step - loss: 0.8478 - accuracy: 0.6862 - val_loss: 0.8138 - val_accuracy: 0.7350\n",
      "Epoch 15/100\n",
      "25/25 [==============================] - 0s 3ms/step - loss: 0.7965 - accuracy: 0.7063 - val_loss: 0.7931 - val_accuracy: 0.7150\n",
      "Epoch 16/100\n",
      "25/25 [==============================] - 0s 3ms/step - loss: 0.7503 - accuracy: 0.7325 - val_loss: 0.7880 - val_accuracy: 0.7100\n",
      "Epoch 17/100\n",
      "25/25 [==============================] - 0s 3ms/step - loss: 0.7163 - accuracy: 0.7250 - val_loss: 0.8288 - val_accuracy: 0.7150\n",
      "Epoch 18/100\n",
      "25/25 [==============================] - 0s 3ms/step - loss: 0.7251 - accuracy: 0.7312 - val_loss: 0.8129 - val_accuracy: 0.7450\n",
      "Epoch 19/100\n",
      "25/25 [==============================] - 0s 3ms/step - loss: 0.6659 - accuracy: 0.7450 - val_loss: 0.8705 - val_accuracy: 0.7350\n",
      "Epoch 20/100\n",
      "25/25 [==============================] - 0s 3ms/step - loss: 0.6914 - accuracy: 0.7462 - val_loss: 0.8283 - val_accuracy: 0.7100\n",
      "Epoch 21/100\n",
      "25/25 [==============================] - 0s 3ms/step - loss: 0.6669 - accuracy: 0.7513 - val_loss: 0.8568 - val_accuracy: 0.7000\n",
      "Epoch 22/100\n",
      "25/25 [==============================] - 0s 3ms/step - loss: 0.6309 - accuracy: 0.7625 - val_loss: 0.8935 - val_accuracy: 0.7150\n",
      "Epoch 23/100\n",
      "25/25 [==============================] - 0s 3ms/step - loss: 0.5854 - accuracy: 0.7887 - val_loss: 0.9247 - val_accuracy: 0.7050\n"
     ]
    }
   ],
   "source": [
    "MODEL_SAVE_NAME = \"AI_CUP_medical_sample_model\"\n",
    "\n",
    "train_results = model.fit(x_train, y_train, batch_size=None, epochs=100, \n",
    "                              callbacks=[EarlyStopping(monitor='val_loss', patience=10, mode='auto'),\n",
    "                                         ModelCheckpoint(MODEL_SAVE_NAME+\".h5\", save_best_only=True)], \n",
    "                              validation_data=(x_val, y_val))"
   ]
  },
  {
   "cell_type": "markdown",
   "metadata": {
    "id": "SvapKuja-A5S"
   },
   "source": [
    "## 訓練資料"
   ]
  },
  {
   "cell_type": "code",
   "execution_count": 27,
   "metadata": {
    "colab": {
     "base_uri": "https://localhost:8080/",
     "height": 501
    },
    "executionInfo": {
     "elapsed": 999,
     "status": "ok",
     "timestamp": 1682279703630,
     "user": {
      "displayName": "陳韋任",
      "userId": "17933863880339851010"
     },
     "user_tz": -480
    },
    "id": "x8sWVI7f-A5S",
    "outputId": "889ff59a-5085-4e0e-adf1-2afdfca10731"
   },
   "outputs": [
    {
     "name": "stdout",
     "output_type": "stream",
     "text": [
      "25/25 [==============================] - 0s 917us/step\n",
      "Training UAR(Unweighted Average Recall) : 0.676057070162323\n"
     ]
    },
    {
     "data": {
      "text/plain": [
       "<sklearn.metrics._plot.confusion_matrix.ConfusionMatrixDisplay at 0x1dbfcfbfa00>"
      ]
     },
     "execution_count": 27,
     "metadata": {},
     "output_type": "execute_result"
    },
    {
     "data": {
      "image/png": "[encoded data removed]",
      "text/plain": [
       "<Figure size 640x480 with 2 Axes>"
      ]
     },
     "metadata": {},
     "output_type": "display_data"
    }
   ],
   "source": [
    "y_pred = model.predict(training_df.iloc[:, :-1]).argmax(axis=1)\n",
    "y_true = training_df['Disease category'] - 1\n",
    "\n",
    "results_recall = recall_score(y_true, y_pred, average=None)\n",
    "print(\"Training UAR(Unweighted Average Recall) :\", results_recall.mean())\n",
    "ConfusionMatrixDisplay(confusion_matrix(y_true, y_pred)).plot(cmap='Blues')"
   ]
  },
  {
   "cell_type": "markdown",
   "metadata": {
    "id": "4P3Jfn2T-A5S"
   },
   "source": [
    "# 驗證資料測試結果"
   ]
  },
  {
   "cell_type": "code",
   "execution_count": 28,
   "metadata": {
    "colab": {
     "base_uri": "https://localhost:8080/",
     "height": 501
    },
    "executionInfo": {
     "elapsed": 497,
     "status": "ok",
     "timestamp": 1682279704125,
     "user": {
      "displayName": "陳韋任",
      "userId": "17933863880339851010"
     },
     "user_tz": -480
    },
    "id": "1MYVtUoG-A5S",
    "outputId": "606a43fa-07bb-470a-b74c-4f286414058e"
   },
   "outputs": [
    {
     "name": "stdout",
     "output_type": "stream",
     "text": [
      "7/7 [==============================] - 0s 1ms/step\n",
      "Test UAR(Unweighted Average Recall) : 0.5476040288540288\n"
     ]
    },
    {
     "data": {
      "text/plain": [
       "<sklearn.metrics._plot.confusion_matrix.ConfusionMatrixDisplay at 0x1dbff33ace0>"
      ]
     },
     "execution_count": 28,
     "metadata": {},
     "output_type": "execute_result"
    },
    {
     "data": {
      "image/png": "[encoded data removed]",
      "text/plain": [
       "<Figure size 640x480 with 2 Axes>"
      ]
     },
     "metadata": {},
     "output_type": "display_data"
    }
   ],
   "source": [
    "y_pred = model.predict(test_df.iloc[:, :-1]).argmax(axis=1)\n",
    "y_true = test_df['Disease category'] - 1\n",
    "\n",
    "results_recall = recall_score(y_true, y_pred, average=None)\n",
    "print(\"Test UAR(Unweighted Average Recall) :\", results_recall.mean())\n",
    "ConfusionMatrixDisplay(confusion_matrix(y_true, y_pred)).plot(cmap='Blues')\n",
    "\n",
    "#0.47 中間改relu dropout(0.2)"
   ]
  }
 ],
 "metadata": {
  "accelerator": "GPU",
  "colab": {
   "provenance": [],
   "toc_visible": true
  },
  "gpuClass": "standard",
  "kernelspec": {
   "display_name": "Python 3 (ipykernel)",
   "language": "python",
   "name": "python3"
  },
  "language_info": {
   "codemirror_mode": {
    "name": "ipython",
    "version": 3
   },
   "file_extension": ".py",
   "mimetype": "text/x-python",
   "name": "python",
   "nbconvert_exporter": "python",
   "pygments_lexer": "ipython3",
   "version": "3.10.7"
  },
  "vscode": {
   "interpreter": {
    "hash": "f97432c16914304dbd818b138841742b9483a5a148ca981647dc7438178b3282"
   }
  }
 },
 "nbformat": 4,
 "nbformat_minor": 1
}

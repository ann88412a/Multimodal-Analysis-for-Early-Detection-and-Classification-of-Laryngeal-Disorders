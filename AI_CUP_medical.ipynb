{
  "cells": [
    {
      "cell_type": "markdown",
      "metadata": {
        "id": "d7Ti1UYvMSw7"
      },
      "source": [
        "# 掛載雲端硬碟"
      ]
    },
    {
      "cell_type": "code",
      "execution_count": 1,
      "metadata": {
        "colab": {
          "base_uri": "https://localhost:8080/"
        },
        "id": "ZtZokLx1Md34",
        "outputId": "77880d42-fd89-4aec-94d1-78868fdf87dd"
      },
      "outputs": [
        {
          "output_type": "stream",
          "name": "stdout",
          "text": [
            "Mounted at /content/drive\n"
          ]
        }
      ],
      "source": [
        "import os\n",
        "from google.colab import drive\n",
        "\n",
        "drive.mount('/content/drive')\n",
        "\n",
        "os.chdir('/content/drive/MyDrive/Colab Notebooks/Multimodal-Analysis-for-Early-Detection-and-Classification-of-Laryngeal-Disorders')"
      ]
    },
    {
      "cell_type": "markdown",
      "metadata": {
        "id": "B1ajdq9E-A5O"
      },
      "source": [
        "# 載入套件"
      ]
    },
    {
      "cell_type": "code",
      "execution_count": 2,
      "metadata": {
        "id": "st1ZzC2o-A5P"
      },
      "outputs": [],
      "source": [
        "import numpy as np\n",
        "import pandas as pd\n",
        "import librosa\n",
        "\n",
        "import tensorflow as tf\n",
        "from tensorflow.keras.layers import Activation, BatchNormalization, Dense, LayerNormalization, Dropout\n",
        "from tensorflow.keras.models import Sequential, load_model\n",
        "from tensorflow.keras.callbacks import EarlyStopping, ModelCheckpoint\n",
        "\n",
        "from sklearn.model_selection import train_test_split\n",
        "from sklearn.metrics import confusion_matrix, ConfusionMatrixDisplay, recall_score"
      ]
    },
    {
      "cell_type": "markdown",
      "metadata": {
        "id": "yE0AR8P1-A5Q"
      },
      "source": [
        "# 模型架構"
      ]
    },
    {
      "cell_type": "code",
      "execution_count": 3,
      "metadata": {
        "id": "syU-2mCr-A5Q"
      },
      "outputs": [],
      "source": [
        "# default hyperparameters\n",
        "# NEURONS = 300\n",
        "# HIDDEN_LAYERS = 3\n",
        "\n",
        "# def create_DNN(input_shape, neurons = NEURONS, hidden_layers = HIDDEN_LAYERS, learning_rate = 0.001, verbose=0):\n",
        "#     model = Sequential()\n",
        "\n",
        "#     model.add(Dense(neurons, input_dim=input_shape))\n",
        "#     model.add(Activation('relu'))\n",
        "\n",
        "#     for i in range(hidden_layers-1):\n",
        "#         model.add(Dense(neurons))\n",
        "#         model.add(Activation('relu'))\n",
        "#         model.add(Dropout(0.2))\n",
        "\n",
        "#     model.add(Dense(5))\n",
        "#     model.add(Activation('softmax'))\n",
        "\n",
        "#     opt = tf.keras.optimizers.Adam(learning_rate=learning_rate)\n",
        "#     model.compile(loss='categorical_crossentropy', optimizer=opt, metrics=['accuracy']) # categorical_crossentropy\n",
        "\n",
        "#     if verbose:\n",
        "#         model.summary()\n",
        "    \n",
        "#     return model\n",
        "\n",
        "\n",
        "def create_DNN(input_shape, learning_rate = 0.001, dropout_rate = 0.2, verbose=0):\n",
        "    model = Sequential()\n",
        "\n",
        "    model.add(Dense(512, input_dim=input_shape))\n",
        "    model.add(Activation('relu'))\n",
        "    model.add(Dropout(dropout_rate))\n",
        "    \n",
        "    model.add(Dense(256, input_dim=input_shape))\n",
        "    model.add(Activation('relu'))\n",
        "    model.add(Dropout(dropout_rate))\n",
        "    \n",
        "    model.add(Dense(128, input_dim=input_shape))\n",
        "    model.add(Activation('relu'))\n",
        "    model.add(Dropout(dropout_rate))\n",
        "\n",
        "    model.add(Dense(64, input_dim=input_shape))\n",
        "    model.add(Activation('selu'))\n",
        "    model.add(Dropout(dropout_rate))\n",
        "\n",
        "    model.add(Dense(32, input_dim=input_shape))\n",
        "    model.add(Activation('selu'))\n",
        "    model.add(Dropout(dropout_rate))\n",
        "    \n",
        "\n",
        "    \n",
        "    model.add(Dense(5))\n",
        "    model.add(Activation('softmax'))\n",
        "\n",
        "    opt = tf.keras.optimizers.Adam(learning_rate=learning_rate)\n",
        "    model.compile(loss='categorical_crossentropy', optimizer='adam', metrics=['accuracy']) # categorical_crossentropy\n",
        "\n",
        "    if verbose:\n",
        "        model.summary()\n",
        "    \n",
        "    return model"
      ]
    },
    {
      "cell_type": "markdown",
      "metadata": {
        "id": "GHYjBz2M-A5Q"
      },
      "source": [
        "# 載入訓練資料"
      ]
    },
    {
      "cell_type": "code",
      "execution_count": 4,
      "metadata": {
        "colab": {
          "base_uri": "https://localhost:8080/"
        },
        "id": "xI4m8gMW-A5Q",
        "outputId": "fb9ff862-05c8-4357-c87f-6e65a7f0e9d6"
      },
      "outputs": [
        {
          "output_type": "stream",
          "name": "stdout",
          "text": [
            "source_df.shape : (1000, 28)\n",
            "source_df.columns : Index(['ID', 'Sex', 'Age', 'Disease category', 'Narrow pitch range',\n",
            "       'Decreased volume', 'Fatigue', 'Dryness', 'Lumping', 'heartburn',\n",
            "       'Choking', 'Eye dryness', 'PND', 'Smoking', 'PPD', 'Drinking',\n",
            "       'frequency', 'Diurnal pattern', 'Onset of dysphonia ', 'Noise at work',\n",
            "       'Occupational vocal demand', 'Diabetes', 'Hypertension', 'CAD',\n",
            "       'Head and Neck Cancer', 'Head injury', 'CVA',\n",
            "       'Voice handicap index - 10'],\n",
            "      dtype='object')\n"
          ]
        }
      ],
      "source": [
        "# 讀取訓練資料集表單\n",
        "source_df = pd.read_csv('./Training_Dataset/training_datalist.csv')\n",
        "\n",
        "print(\"source_df.shape :\", source_df.shape)\n",
        "print(\"source_df.columns :\", source_df.columns)"
      ]
    },
    {
      "cell_type": "markdown",
      "metadata": {
        "id": "ZhAx4-IT-A5R"
      },
      "source": [
        "# 資料前處理"
      ]
    },
    {
      "cell_type": "code",
      "execution_count": 5,
      "metadata": {
        "id": "_gt6wmNJ-A5R"
      },
      "outputs": [],
      "source": [
        "def medical_data_proccessing(df):\n",
        "    medical_col = ['Sex', 'Age', 'Narrow pitch range',\n",
        "                'Decreased volume', 'Fatigue', 'Dryness', 'Lumping', 'heartburn',\n",
        "                'Choking', 'Eye dryness', 'PND', 'Smoking', 'PPD', 'Drinking',\n",
        "                'frequency', 'Diurnal pattern', 'Onset of dysphonia ', 'Noise at work',\n",
        "                'Occupational vocal demand', 'Diabetes', 'Hypertension', 'CAD',\n",
        "                'Head and Neck Cancer', 'Head injury', 'CVA',\n",
        "                'Voice handicap index - 10', 'Disease category']\n",
        "    \n",
        "    # 選定要訓練預測的類別\n",
        "    df = df.loc[df['Disease category'].isin([1, 2, 3, 4, 5]), medical_col]\n",
        "\n",
        "    # 將性別編碼0,1\n",
        "    df['Sex'] = df['Sex'] - 1\n",
        "\n",
        "    # 將空值填0\n",
        "    df['PPD'] = df['PPD'].fillna(0)\n",
        "    df['Voice handicap index - 10'] = df['Voice handicap index - 10'].fillna(0)\n",
        "\n",
        "    # 正規化過大的數值\n",
        "    df['Age'] = df['Age'] / 50\n",
        "    df['Voice handicap index - 10'] = df['Voice handicap index - 10'] / 40\n",
        "\n",
        "    return df"
      ]
    },
    {
      "cell_type": "code",
      "execution_count": 6,
      "metadata": {
        "colab": {
          "base_uri": "https://localhost:8080/"
        },
        "id": "L7_hOcbh-A5R",
        "outputId": "ccd7c2a9-cd09-45ef-9ab2-96addbef9743"
      },
      "outputs": [
        {
          "output_type": "stream",
          "name": "stdout",
          "text": [
            "Disease category in training_df : [1 2 3 5 4]\n",
            "training_df col : Index(['Sex', 'Age', 'Narrow pitch range', 'Decreased volume', 'Fatigue',\n",
            "       'Dryness', 'Lumping', 'heartburn', 'Choking', 'Eye dryness', 'PND',\n",
            "       'Smoking', 'PPD', 'Drinking', 'frequency', 'Diurnal pattern',\n",
            "       'Onset of dysphonia ', 'Noise at work', 'Occupational vocal demand',\n",
            "       'Diabetes', 'Hypertension', 'CAD', 'Head and Neck Cancer',\n",
            "       'Head injury', 'CVA', 'Voice handicap index - 10', 'Disease category'],\n",
            "      dtype='object')\n",
            "training_df shape : (1000, 27)\n"
          ]
        }
      ],
      "source": [
        "source_df = medical_data_proccessing(source_df)\n",
        "\n",
        "print(\"Disease category in training_df :\", source_df['Disease category'].unique())\n",
        "print(\"training_df col :\", source_df.columns)\n",
        "print(\"training_df shape :\", source_df.shape)"
      ]
    },
    {
      "cell_type": "markdown",
      "metadata": {
        "id": "R_BG4ajaZv8X"
      },
      "source": [
        "## 訓練與驗證資料切分"
      ]
    },
    {
      "cell_type": "code",
      "execution_count": 7,
      "metadata": {
        "colab": {
          "base_uri": "https://localhost:8080/"
        },
        "id": "y4L42QP_Zv8X",
        "outputId": "094a610c-05ea-484e-a6a8-a667f3c888d7"
      },
      "outputs": [
        {
          "output_type": "stream",
          "name": "stdout",
          "text": [
            "training_df shape : (800, 27) , test_df shape : (200, 27)\n"
          ]
        }
      ],
      "source": [
        "training_df, test_df = train_test_split(source_df, test_size=0.2, random_state=333)\n",
        "\n",
        "print(\"training_df shape :\", training_df.shape, \", test_df shape :\", test_df.shape)"
      ]
    },
    {
      "cell_type": "code",
      "execution_count": 8,
      "metadata": {
        "colab": {
          "base_uri": "https://localhost:8080/"
        },
        "id": "YWxTE7RI-A5R",
        "outputId": "d25206a5-0de8-434b-96eb-cd86fa8f6a09"
      },
      "outputs": [
        {
          "output_type": "stream",
          "name": "stdout",
          "text": [
            "training_data.shape : (800, 31)\n",
            "x_train.shape, y_train.shape : (800, 26) (800, 5)\n",
            "y_train.columns : ['c1', 'c2', 'c3', 'c4', 'c5']\n"
          ]
        }
      ],
      "source": [
        "# 訓練資料標記轉換\n",
        "training_data = training_df.iloc[:, :-1]\n",
        "training_data['c1'] = training_df['Disease category'].map({1:1, 2:0, 3:0, 4:0, 5:0})\n",
        "training_data['c2'] = training_df['Disease category'].map({1:0, 2:1, 3:0, 4:0, 5:0})\n",
        "training_data['c3'] = training_df['Disease category'].map({1:0, 2:0, 3:1, 4:0, 5:0})\n",
        "training_data['c4'] = training_df['Disease category'].map({1:0, 2:0, 3:0, 4:1, 5:0})\n",
        "training_data['c5'] = training_df['Disease category'].map({1:0, 2:0, 3:0, 4:0, 5:1})\n",
        "\n",
        "print(\"training_data.shape :\", training_data.shape)\n",
        "\n",
        "x_train = training_data.iloc[:, :-5]\n",
        "y_train = training_data.iloc[:, -5:]\n",
        "print(\"x_train.shape, y_train.shape :\", x_train.shape, y_train.shape)\n",
        "print(\"y_train.columns :\", y_train.columns.tolist())"
      ]
    },
    {
      "cell_type": "code",
      "execution_count": 9,
      "metadata": {
        "colab": {
          "base_uri": "https://localhost:8080/"
        },
        "id": "ZzOmUJ-YZv8Y",
        "outputId": "9a376d9d-ec6a-4dea-bd99-268fa3a5d40d"
      },
      "outputs": [
        {
          "output_type": "stream",
          "name": "stdout",
          "text": [
            "test_data.shape : (200, 31)\n",
            "x_val.shape, y_val.shape : (200, 26) (200, 5)\n",
            "y_val.columns : ['c1', 'c2', 'c3', 'c4', 'c5']\n"
          ]
        }
      ],
      "source": [
        "# 驗證資料標記轉換\n",
        "test_data = test_df.iloc[:, :-1]\n",
        "test_data['c1'] = test_df['Disease category'].map({1:1, 2:0, 3:0, 4:0, 5:0})\n",
        "test_data['c2'] = test_df['Disease category'].map({1:0, 2:1, 3:0, 4:0, 5:0})\n",
        "test_data['c3'] = test_df['Disease category'].map({1:0, 2:0, 3:1, 4:0, 5:0})\n",
        "test_data['c4'] = test_df['Disease category'].map({1:0, 2:0, 3:0, 4:1, 5:0})\n",
        "test_data['c5'] = test_df['Disease category'].map({1:0, 2:0, 3:0, 4:0, 5:1})\n",
        "\n",
        "print(\"test_data.shape :\", test_data.shape)\n",
        "\n",
        "x_val = test_data.iloc[:, :-5]\n",
        "y_val = test_data.iloc[:, -5:]\n",
        "print(\"x_val.shape, y_val.shape :\", x_val.shape, y_val.shape)\n",
        "print(\"y_val.columns :\", y_val.columns.tolist())"
      ]
    },
    {
      "cell_type": "markdown",
      "metadata": {
        "id": "1iWD2IWf-A5Q"
      },
      "source": [
        "# 訓練病理特徵"
      ]
    },
    {
      "cell_type": "code",
      "execution_count": 10,
      "metadata": {
        "colab": {
          "base_uri": "https://localhost:8080/"
        },
        "id": "1p5D4gRH-A5R",
        "outputId": "caebef53-812c-4ca7-a189-3bd552fd7db7"
      },
      "outputs": [
        {
          "output_type": "stream",
          "name": "stdout",
          "text": [
            "Model: \"sequential\"\n",
            "_________________________________________________________________\n",
            " Layer (type)                Output Shape              Param #   \n",
            "=================================================================\n",
            " dense (Dense)               (None, 512)               13824     \n",
            "                                                                 \n",
            " activation (Activation)     (None, 512)               0         \n",
            "                                                                 \n",
            " dropout (Dropout)           (None, 512)               0         \n",
            "                                                                 \n",
            " dense_1 (Dense)             (None, 256)               131328    \n",
            "                                                                 \n",
            " activation_1 (Activation)   (None, 256)               0         \n",
            "                                                                 \n",
            " dropout_1 (Dropout)         (None, 256)               0         \n",
            "                                                                 \n",
            " dense_2 (Dense)             (None, 128)               32896     \n",
            "                                                                 \n",
            " activation_2 (Activation)   (None, 128)               0         \n",
            "                                                                 \n",
            " dropout_2 (Dropout)         (None, 128)               0         \n",
            "                                                                 \n",
            " dense_3 (Dense)             (None, 64)                8256      \n",
            "                                                                 \n",
            " activation_3 (Activation)   (None, 64)                0         \n",
            "                                                                 \n",
            " dropout_3 (Dropout)         (None, 64)                0         \n",
            "                                                                 \n",
            " dense_4 (Dense)             (None, 32)                2080      \n",
            "                                                                 \n",
            " activation_4 (Activation)   (None, 32)                0         \n",
            "                                                                 \n",
            " dropout_4 (Dropout)         (None, 32)                0         \n",
            "                                                                 \n",
            " dense_5 (Dense)             (None, 5)                 165       \n",
            "                                                                 \n",
            " activation_5 (Activation)   (None, 5)                 0         \n",
            "                                                                 \n",
            "=================================================================\n",
            "Total params: 188,549\n",
            "Trainable params: 188,549\n",
            "Non-trainable params: 0\n",
            "_________________________________________________________________\n"
          ]
        }
      ],
      "source": [
        "model = create_DNN(input_shape = x_train.shape[1], verbose=1)"
      ]
    },
    {
      "cell_type": "code",
      "execution_count": 11,
      "metadata": {
        "colab": {
          "base_uri": "https://localhost:8080/"
        },
        "id": "33e77LDL-A5S",
        "outputId": "889adaf7-2964-4cb1-9466-57d4d332643d"
      },
      "outputs": [
        {
          "output_type": "stream",
          "name": "stdout",
          "text": [
            "Epoch 1/100\n",
            "25/25 [==============================] - 8s 46ms/step - loss: 1.2871 - accuracy: 0.5150 - val_loss: 0.9675 - val_accuracy: 0.6150\n",
            "Epoch 2/100\n",
            "25/25 [==============================] - 0s 14ms/step - loss: 1.1543 - accuracy: 0.5600 - val_loss: 0.9062 - val_accuracy: 0.6400\n",
            "Epoch 3/100\n",
            "25/25 [==============================] - 0s 15ms/step - loss: 1.0890 - accuracy: 0.5913 - val_loss: 0.8729 - val_accuracy: 0.6350\n",
            "Epoch 4/100\n",
            "25/25 [==============================] - 0s 14ms/step - loss: 1.0765 - accuracy: 0.5962 - val_loss: 0.8159 - val_accuracy: 0.7300\n",
            "Epoch 5/100\n",
            "25/25 [==============================] - 0s 15ms/step - loss: 1.0080 - accuracy: 0.6175 - val_loss: 0.7997 - val_accuracy: 0.7050\n",
            "Epoch 6/100\n",
            "25/25 [==============================] - 0s 13ms/step - loss: 0.9681 - accuracy: 0.6162 - val_loss: 0.7998 - val_accuracy: 0.6800\n",
            "Epoch 7/100\n",
            "25/25 [==============================] - 0s 15ms/step - loss: 0.9476 - accuracy: 0.6500 - val_loss: 0.7825 - val_accuracy: 0.7100\n",
            "Epoch 8/100\n",
            "25/25 [==============================] - 0s 10ms/step - loss: 0.9485 - accuracy: 0.6625 - val_loss: 0.7998 - val_accuracy: 0.7050\n",
            "Epoch 9/100\n",
            "25/25 [==============================] - 0s 14ms/step - loss: 0.9250 - accuracy: 0.6700 - val_loss: 0.7794 - val_accuracy: 0.7250\n",
            "Epoch 10/100\n",
            "25/25 [==============================] - 0s 15ms/step - loss: 0.8833 - accuracy: 0.6712 - val_loss: 0.7621 - val_accuracy: 0.7150\n",
            "Epoch 11/100\n",
            "25/25 [==============================] - 0s 9ms/step - loss: 0.8465 - accuracy: 0.6712 - val_loss: 0.7635 - val_accuracy: 0.7500\n",
            "Epoch 12/100\n",
            "25/25 [==============================] - 0s 7ms/step - loss: 0.8410 - accuracy: 0.6862 - val_loss: 0.8071 - val_accuracy: 0.7300\n",
            "Epoch 13/100\n",
            "25/25 [==============================] - 0s 7ms/step - loss: 0.8481 - accuracy: 0.6762 - val_loss: 0.7951 - val_accuracy: 0.6950\n",
            "Epoch 14/100\n",
            "25/25 [==============================] - 0s 7ms/step - loss: 0.7967 - accuracy: 0.7150 - val_loss: 0.7930 - val_accuracy: 0.7250\n",
            "Epoch 15/100\n",
            "25/25 [==============================] - 0s 7ms/step - loss: 0.7858 - accuracy: 0.7025 - val_loss: 0.8207 - val_accuracy: 0.7000\n",
            "Epoch 16/100\n",
            "25/25 [==============================] - 0s 7ms/step - loss: 0.7535 - accuracy: 0.7125 - val_loss: 0.7939 - val_accuracy: 0.7350\n",
            "Epoch 17/100\n",
            "25/25 [==============================] - 0s 7ms/step - loss: 0.7046 - accuracy: 0.7312 - val_loss: 0.8253 - val_accuracy: 0.7300\n",
            "Epoch 18/100\n",
            "25/25 [==============================] - 0s 7ms/step - loss: 0.6992 - accuracy: 0.7575 - val_loss: 0.8350 - val_accuracy: 0.7100\n",
            "Epoch 19/100\n",
            "25/25 [==============================] - 0s 8ms/step - loss: 0.6873 - accuracy: 0.7337 - val_loss: 0.8572 - val_accuracy: 0.7250\n",
            "Epoch 20/100\n",
            "25/25 [==============================] - 0s 7ms/step - loss: 0.6337 - accuracy: 0.7638 - val_loss: 0.8947 - val_accuracy: 0.7000\n"
          ]
        }
      ],
      "source": [
        "#MODEL_SAVE_NAME = \"AI_CUP_medical_sample_model\"\n",
        "\n",
        "#train_results = model.fit(x_train, y_train, batch_size=None, epochs=100, \n",
        "#                              callbacks=[EarlyStopping(monitor='val_loss', patience=10, mode='auto'),\n",
        "#                                         ModelCheckpoint(MODEL_SAVE_NAME+\".h5\", save_best_only=True)], \n",
        "#                              validation_data=(x_val, y_val))"
      ]
    },
    {
      "cell_type": "markdown",
      "source": [
        "XGboost + class weight"
      ],
      "metadata": {
        "id": "v5iUIptFTa87"
      }
    },
    {
      "cell_type": "code",
      "source": [
        "from sklearn.utils.class_weight import compute_sample_weight\n",
        "sample_weights = compute_sample_weight(\n",
        "    class_weight='balanced',\n",
        "    y=y_train\n",
        ")"
      ],
      "metadata": {
        "id": "kfkdwf4KQjsT"
      },
      "execution_count": 34,
      "outputs": []
    },
    {
      "cell_type": "code",
      "source": [
        "import warnings\n",
        "import numpy as np\n",
        "from joblib.parallel import Parallel, delayed\n",
        "from sklearn.base import clone\n",
        "from sklearn.multiclass import _ConstantPredictor, OneVsRestClassifier\n",
        "from sklearn.preprocessing import LabelBinarizer, MultiLabelBinarizer\n",
        "from sklearn.linear_model import SGDClassifier\n",
        "\n",
        "def _fit_binary_new(estimator, X, y, sample_weight, classes=None):\n",
        "    unique_y = np.unique(y)\n",
        "    if len(unique_y) == 1:\n",
        "        if classes is not None:\n",
        "            if y[0] == -1:\n",
        "                c = 0\n",
        "            else:\n",
        "                c = y[0]\n",
        "            warnings.warn(\"Label %s is present in all training examples.\" %\n",
        "                          str(classes[c]))\n",
        "        estimator = _ConstantPredictor().fit(X, unique_y)\n",
        "    else:\n",
        "        estimator = clone(estimator)\n",
        "\n",
        "        # Only this changed\n",
        "        estimator.fit(X, y, sample_weight=sample_weight)\n",
        "    return estimator\n",
        "\n",
        "class OneVsRestClassifierNew(OneVsRestClassifier):\n",
        "\n",
        "    def fit(self, X, y, sample_weight=None):\n",
        "        self.label_binarizer_ = LabelBinarizer(sparse_output=True)\n",
        "        Y = self.label_binarizer_.fit_transform(y)\n",
        "        Y = Y.tocsc()\n",
        "        self.classes_ = self.label_binarizer_.classes_\n",
        "        columns = (col.toarray().ravel() for col in Y.T)\n",
        "        self.estimators_ = Parallel(n_jobs=self.n_jobs)(delayed(_fit_binary_new)(\n",
        "            self.estimator, X, column, sample_weight, classes=[\n",
        "                \"not %s\" % self.label_binarizer_.classes_[i],\n",
        "                self.label_binarizer_.classes_[i]])\n",
        "            for i, column in enumerate(columns))\n",
        "\n",
        "        return self"
      ],
      "metadata": {
        "id": "We46-4PkR11w"
      },
      "execution_count": 35,
      "outputs": []
    },
    {
      "cell_type": "code",
      "source": [
        "from xgboost.sklearn import XGBClassifier\n",
        "from sklearn.multiclass import OneVsRestClassifier\n",
        "\n",
        "clf = OneVsRestClassifierNew(XGBClassifier(booster='gbtree',objective='multi:softmax',num_class=5,\n",
        "                     max_depth=5,min_child_weight=1,gamma=0,subsample=0.8,colsample_bytree=0.8))\n",
        "    \n",
        "model = clf.fit(x_train,y_train,sample_weight=sample_weights)"
      ],
      "metadata": {
        "id": "Dsqd55gk2xgX"
      },
      "execution_count": 36,
      "outputs": []
    },
    {
      "cell_type": "markdown",
      "metadata": {
        "id": "SvapKuja-A5S"
      },
      "source": [
        "## 訓練資料"
      ]
    },
    {
      "cell_type": "code",
      "execution_count": 37,
      "metadata": {
        "colab": {
          "base_uri": "https://localhost:8080/",
          "height": 487
        },
        "id": "x8sWVI7f-A5S",
        "outputId": "0ee1bbdc-e0b8-427c-bcdf-861f1b344659"
      },
      "outputs": [
        {
          "output_type": "stream",
          "name": "stdout",
          "text": [
            "Training UAR(Unweighted Average Recall) : 0.9912698723215566\n"
          ]
        },
        {
          "output_type": "execute_result",
          "data": {
            "text/plain": [
              "<sklearn.metrics._plot.confusion_matrix.ConfusionMatrixDisplay at 0x7f95dc2986a0>"
            ]
          },
          "metadata": {},
          "execution_count": 37
        },
        {
          "output_type": "display_data",
          "data": {
            "text/plain": [
              "<Figure size 640x480 with 2 Axes>"
            ],
            "image/png": "[encoded data removed]"
          },
          "metadata": {}
        }
      ],
      "source": [
        "y_pred = model.predict(training_df.iloc[:, :-1]).argmax(axis=1)\n",
        "y_true = training_df['Disease category'] - 1\n",
        "\n",
        "results_recall = recall_score(y_true, y_pred, average=None)\n",
        "print(\"Training UAR(Unweighted Average Recall) :\", results_recall.mean())\n",
        "ConfusionMatrixDisplay(confusion_matrix(y_true, y_pred)).plot(cmap='Blues')"
      ]
    },
    {
      "cell_type": "markdown",
      "metadata": {
        "id": "4P3Jfn2T-A5S"
      },
      "source": [
        "# 驗證資料測試結果"
      ]
    },
    {
      "cell_type": "code",
      "execution_count": 38,
      "metadata": {
        "colab": {
          "base_uri": "https://localhost:8080/",
          "height": 484
        },
        "id": "1MYVtUoG-A5S",
        "outputId": "358db6dc-2aa2-4366-c8c3-e947c0c238e9"
      },
      "outputs": [
        {
          "output_type": "stream",
          "name": "stdout",
          "text": [
            "Test UAR(Unweighted Average Recall) : 0.3588378588378588\n"
          ]
        },
        {
          "output_type": "execute_result",
          "data": {
            "text/plain": [
              "<sklearn.metrics._plot.confusion_matrix.ConfusionMatrixDisplay at 0x7f95dc298580>"
            ]
          },
          "metadata": {},
          "execution_count": 38
        },
        {
          "output_type": "display_data",
          "data": {
            "text/plain": [
              "<Figure size 640x480 with 2 Axes>"
            ],
            "image/png": "[encoded data removed]"
          },
          "metadata": {}
        }
      ],
      "source": [
        "y_pred = model.predict(test_df.iloc[:, :-1]).argmax(axis=1)\n",
        "y_true = test_df['Disease category'] - 1\n",
        "\n",
        "results_recall = recall_score(y_true, y_pred, average=None)\n",
        "print(\"Test UAR(Unweighted Average Recall) :\", results_recall.mean())\n",
        "ConfusionMatrixDisplay(confusion_matrix(y_true, y_pred)).plot(cmap='Blues')\n",
        "\n",
        "#0.47 中間改relu dropout(0.2)"
      ]
    }
  ],
  "metadata": {
    "accelerator": "GPU",
    "colab": {
      "provenance": [],
      "toc_visible": true
    },
    "gpuClass": "standard",
    "kernelspec": {
      "display_name": "Python 3 (ipykernel)",
      "language": "python",
      "name": "python3"
    },
    "language_info": {
      "codemirror_mode": {
        "name": "ipython",
        "version": 3
      },
      "file_extension": ".py",
      "mimetype": "text/x-python",
      "name": "python",
      "nbconvert_exporter": "python",
      "pygments_lexer": "ipython3",
      "version": "3.9.13"
    },
    "vscode": {
      "interpreter": {
        "hash": "f97432c16914304dbd818b138841742b9483a5a148ca981647dc7438178b3282"
      }
    }
  },
  "nbformat": 4,
  "nbformat_minor": 0
}